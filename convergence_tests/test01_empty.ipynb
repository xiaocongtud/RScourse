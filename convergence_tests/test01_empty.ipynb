{
 "cells": [
  {
   "cell_type": "markdown",
   "metadata": {},
   "source": [
    "# Entry exam on modeling, AES1305 course, 01-09-2020 11:15 - 12:45\n",
    "\n",
    "## Student Name:\n",
    "## Student Number:"
   ]
  },
  {
   "cell_type": "markdown",
   "metadata": {},
   "source": [
    "## Information\n",
    "This Jupyter Notebook serves as your answer sheet for the entry exam of the AES1305 course. The exam is 1.5 hour(s) long. Every exam question is accompanied by a specific slide followed by a **Code** or **Markdown** block in which you fill in the answer to the question. If the question has sub-questions, the accompanying **Code** or **Markdown** block(s) will already be added (don't need to manually add them). \n",
    "\n",
    "**NOTE:** Whenever  you run a code block (can use ctrl + enter), any variable or function (i.e. method) declared in this code block will (after run) be usuable throughout your Jupyter Notebook (i.e. you can also use them in subsequent code blocks), i.e. it will be stored in memory. This means that you don't have to copy-pasta your code to any other cell, just run the cell which contains the declared variables and functions/methods in order to store them in memory! This will be helpful in case where the answer contains several parts, you can use the code blocks for each sub-question!\n",
    "\n",
    "**NOTE: To use a subscript or superscript, use the ``<sub>`` or ``<sup>`` tag:**\n",
    "* To write sub<sub>script</sub> you have to write ``sub<sub>script<\\sub>``\n",
    "* To write sup<sup>script</sup> you have to write ``sup<sup>script<\\sup>``\n",
    "\n",
    "**Remember to always close with a ``<\\sub>`` or ``<\\sup>``.**\n",
    "\n",
    "**NOTE: Want to use LaTeX instead in Markdown Cells, use the ``$ LaTeX code here $`` to denote LaTeX blocks:**\n",
    "* $ f(x) = x^2 $ is written as ``$ f(x) = x^2 $``\n",
    "* $ y_{n+1} = y_n + \\Delta t f(t_n, y_n) $ is written as ``$ y_{n+1} = y_n + \\Delta t f(t_n, y_n) $``\n",
    "\n",
    "Save the Jupyter Notebook regularly (ctrl + s if on Windows), at least after every question, and rename the Jupyter Notebook to (StudentLastName_StudentFirstName_StudentID, e.g. Hoopde_Stephan_4389417)\n",
    "\n",
    "When you finish please submit the Jupyter Notebook as an attachment on BrightSpace with copy sent to d.v.voskov@tudelft.nl. Please note that the link closes at 12:50.\n",
    "\n",
    "Good luck and if there are any questions or problems related to the exam, please notify us immediately."
   ]
  },
  {
   "cell_type": "markdown",
   "metadata": {},
   "source": [
    "# Brief introduction to using Jupyter Notebook\n",
    "Every notebook is subdivided into sections, denoted as **cells**. The two types of cells that you will encounter during this course are:\n",
    "* Markdown cells --> These cells can interpret Markdown Language (Lightweight Markup language written in plain text) as well as HTML Language\n",
    "* Code cells --> These cells are interpreted by Jupyter using a kernel, typically set to Python 3 \n",
    "\n",
    "You can edit (enter **Edit Mode**) each and every cell by simply selecting the cell you want to edit and pressing **enter** or double clicking the (left mouse button) on the cell you wish to modify. Once you are ready simple press **ctrl + enter** to run the cell (the Markdown or Code cell will be interpreter and the result will be displayed) \n",
    "\n",
    "To better understand the User Interface (UI) of Jupyter Notebook, please go to the **Help** tab in the top menu and select **User Interface Tour**. \n",
    "\n",
    "There are two main operating modes in Jupyter Notebook:\n",
    "* **Command Mode**, indicated by the <font color = blue>Blue</font> color on the left side of the cell (have simply selected the cell)\n",
    "* **Edit Mode**, indicated by the <font color = green>Green</font> color on the left side of the cell (are actually editing currently selected cell)\n",
    "\n",
    "Here is a list of commands that you will frequently use when creating your own Jupyter Notebook:\n",
    "### Command mode\n",
    "* **A**: insert cell **a**bove\n",
    "* **B**: insert cell **b**elow\n",
    "* **X**: cut selected cells\n",
    "* **C**: copy selected cells\n",
    "* **Shift + V**: paste cells above\n",
    "* **V**: paste cells below\n",
    "* **Ctrl  + S**: Save and Checkpoint\n",
    "* **Y**: change cell to code\n",
    "* **M**: change cell to **m**arkdown\n",
    "* **Shift + Enter**: run cell, select below\n",
    "* **Ctrl + Enter**: run selected cells\n",
    "* **Enter**: enter edit mode\n",
    "\n",
    "### Edit mode\n",
    "* **Tab**: code completion or indent\n",
    "* **Ctrl + ]**: indent \n",
    "* **Ctrl + [**: dedent\n",
    "* **Ctrl + /**: comment \n",
    "* **Ctrl + z**: undo\n",
    "* **Ctrl + Home**: go to cell start\n",
    "* Same commands (as in Command mode) work if you want to run cell! "
   ]
  },
  {
   "cell_type": "markdown",
   "metadata": {},
   "source": [
    "<h1 style='color: red'>!!!FINAL MESSAGE BEFORE EXAM!!!</h1>\n",
    "<h2>Please feel free to modify the code-blocks in any way you see fit. You don't need to follow necessary the provided structure of the answer, as long as you answer the question. Good luck!</h2>"
   ]
  },
  {
   "cell_type": "markdown",
   "metadata": {},
   "source": [
    "---"
   ]
  },
  {
   "cell_type": "markdown",
   "metadata": {},
   "source": [
    "## Question 1: Differentiation and Integration"
   ]
  },
  {
   "cell_type": "markdown",
   "metadata": {},
   "source": [
    "### Differentiation:\n",
    "For the following function:\n",
    "\n",
    "$$ f(x) = x^3 cos(x) + \\sqrt{x} $$\n",
    "\n",
    "a) Find the first, second, and third analytical derivatives for the above function at the point $ x = 3.7 $.\n",
    "\n",
    "b) Then compute the numerical derivative, at the point $ x = 3.7 $ with $ \\Delta x = 0.5 $, using the:\n",
    "* Forward differentiation\n",
    "* Central differentiation\n",
    "\n",
    "Recall for the numerical differentiation:\n",
    "\n",
    "$$ Q_{forward}(\\Delta x) = \\frac{f(x + \\Delta x) - f(x)}{\\Delta x} $$\n",
    "\n",
    "$$ Q_{central}(\\Delta x) = \\frac{f(x + \\Delta x) - f(x - \\Delta x)}{2 \\Delta x} $$\n",
    "\n",
    "c) Then compute the truncation error for the Forward and Central differentiation at this point and compare the results of both methods for the stepsize $ \\Delta x = 0.5 $, $ \\Delta x = 0.05 $, and $ \\Delta x = 0.005 $. (**hint**: in order to reduce excessive coding and copy-pasting, use functions (i.e. methods) for the different differentiation methods). Then comment on how the three numerical differentiation techniques differ in the way the truncation error gets reduced when reducing $ \\Delta x $. \n",
    "\n",
    "Recall for the truncation error ($ R_{method}$) that:\n",
    "\n",
    "$$ R_{forward} = \\frac{df}{dx} - Q_{forward}(\\Delta x), \\quad R_{central} = \\frac{df}{dx} - Q_{central}(\\Delta x) $$"
   ]
  },
  {
   "cell_type": "code",
   "execution_count": null,
   "metadata": {},
   "outputs": [],
   "source": [
    "# ANSWER Q1.a:\n",
    "import numpy as np\n",
    "\n",
    "\n",
    "# My function (see problem definition above)\n",
    "def func_x(x):\n",
    "### your code here ###\n",
    "\n",
    "# First derivative:\n",
    "def dfdx(x):\n",
    "### your code here ###\n",
    "\n",
    "x_val = 3.7\n",
    "print('Function at x = {:3.2f}:\\t\\t'.format(x_val), func_x(x_val))\n",
    "print('1st derivative at x = {:3.2f}:\\t'.format(x_val), dfdx(x_val))"
   ]
  },
  {
   "cell_type": "code",
   "execution_count": null,
   "metadata": {},
   "outputs": [],
   "source": [
    "# ANSWER Q1.b:\n",
    "x_val = 3.7\n",
    "delta_x = 0.5\n",
    "def Q_forward(x, dx):\n",
    "### your code here ###\n",
    "\n",
    "def Q_central(x, dx):\n",
    "### your code here ###\n",
    "\n",
    "print('Analytical derivative at x = {:3.2f}:\\t\\t'.format(x_val), dfdx(x_val))\n",
    "print('Numerical (forward) derivative at x = {:3.2f}:\\t'.format(x_val), Q_forward(x_val, delta_x))\n",
    "print('Numerical (central) derivative at x = {:3.2f}:\\t'.format(x_val), Q_central(x_val, delta_x))"
   ]
  },
  {
   "cell_type": "code",
   "execution_count": null,
   "metadata": {},
   "outputs": [],
   "source": [
    "# ANSWER Q1.c:\n",
    "delta_x = 0.5\n",
    "print('Truncation error forward (delta_x = {:3.2f}):\\t'.format(delta_x), np.abs(Q_forward(x_val, delta_x) - dfdx(x_val)))\n",
    "print('Truncation error central (delta_x = {:3.2f}):\\t'.format(delta_x), np.abs(Q_central(x_val, delta_x) - dfdx(x_val)))\n",
    "print('')\n",
    "\n",
    "delta_x = 0.05\n",
    "print('Truncation error forward (delta_x = {:3.2f}):\\t'.format(delta_x), np.abs(Q_forward(x_val, delta_x) - dfdx(x_val)))\n",
    "print('Truncation error central (delta_x = {:3.2f}):\\t'.format(delta_x), np.abs(Q_central(x_val, delta_x) - dfdx(x_val)))\n",
    "print('')\n",
    "\n",
    "delta_x = 0.005\n",
    "print('Truncation error forward (delta_x = {:3.2f}):\\t'.format(delta_x), np.abs(Q_forward(x_val, delta_x) - dfdx(x_val)))\n",
    "print('Truncation error central (delta_x = {:3.2f}):\\t'.format(delta_x), np.abs(Q_central(x_val, delta_x) - dfdx(x_val)))"
   ]
  },
  {
   "cell_type": "markdown",
   "metadata": {},
   "source": [
    "### Integration:\n",
    "d) For the same function as in the differentiation exercise above, compute the integral from $a = 2.5$ to $b = 4.5$ analytically and compute the numerical integral using the trapezoidal rule, recall that the trapezoidal rule gives us: \n",
    "\n",
    "$$ \\int_a^b{f_X(x)dx} \\approx \\sum_{i=1}^n{\\frac{f_X(x_{i-1}) + f_X(x_i)}{2} \\Delta x} $$\n",
    "\n",
    "Where you should use a $ N = 20 $ integration points, i.e. $$ \\Delta x = \\frac{L}{N} = \\frac{4.5 - 2.5}{20}= 0.1 $$"
   ]
  },
  {
   "cell_type": "code",
   "execution_count": null,
   "metadata": {},
   "outputs": [],
   "source": [
    "# ANSWER Q1.d:\n",
    "import numpy as np\n",
    "\n",
    "\n",
    "# Analytical integral:\n",
    "def func_x(x):\n",
    "### your code here ###\n",
    "\n",
    "def my_integral(x):\n",
    "### your code here ###\n",
    "\n",
    "a = 2.5\n",
    "b = 4.5\n",
    "analytical_integral = ???\n",
    "\n",
    "# Numerical integral:\n",
    "numerical_integral = 0\n",
    "L = b - a\n",
    "num_p = 20\n",
    "dx = L / num_p\n",
    "\n",
    "### your code here ###\n",
    "\n",
    "# Print answers:\n",
    "print('Analytical integral is: {:4.3f}'.format(analytical_integral))\n",
    "print('Numerical integral is: {:4.3f}'.format(numerical_integral))"
   ]
  },
  {
   "cell_type": "markdown",
   "metadata": {},
   "source": [
    "---"
   ]
  },
  {
   "cell_type": "markdown",
   "metadata": {},
   "source": [
    "## Question 2: Find smallest number in list"
   ]
  },
  {
   "cell_type": "markdown",
   "metadata": {},
   "source": [
    "<img style=\"float: left;\" src=\"exam/Slide17.PNG\" width=\"100%\">"
   ]
  },
  {
   "cell_type": "markdown",
   "metadata": {},
   "source": [
    "## Answer Q2: "
   ]
  },
  {
   "cell_type": "code",
   "execution_count": null,
   "metadata": {},
   "outputs": [],
   "source": [
    "# Python block code for answer to: Find smallest number in list.\n",
    "list_of_numbers = [1, 2, 5, 4, 5, 25, 99, 11, 4, 5, 23, 120, 13, 2, 1, 15, 65, -1, 192, 2, 304, 1, 2, 101, 69, 46]\n",
    "\n",
    "### your code here ###\n",
    "\n",
    "print(\"The smallest number in the list is: \", min_L)"
   ]
  },
  {
   "cell_type": "markdown",
   "metadata": {},
   "source": [
    "***"
   ]
  },
  {
   "cell_type": "markdown",
   "metadata": {},
   "source": [
    "---"
   ]
  },
  {
   "cell_type": "markdown",
   "metadata": {},
   "source": [
    "## Question 3: Linear Algebra"
   ]
  },
  {
   "cell_type": "markdown",
   "metadata": {},
   "source": [
    "<img style=\"float: left;\" src=\"exam/Slide15.PNG\" width=\"100%\">"
   ]
  },
  {
   "cell_type": "markdown",
   "metadata": {},
   "source": [
    "## Answer Q3: "
   ]
  },
  {
   "cell_type": "code",
   "execution_count": null,
   "metadata": {
    "scrolled": false
   },
   "outputs": [],
   "source": [
    "# Generate some data here:\n",
    "import numpy as np\n",
    "import matplotlib.pyplot as plt\n",
    "\n",
    "num_points = 100\n",
    "sigma = 20\n",
    "coefs = [3.45, 0.45, 0.95, 0.33]\n",
    "np.random.seed(0)\n",
    "data_loc = np.linspace(-10, 10, num_points) \n",
    "data_rec = coefs[0] + coefs[1] * data_loc + coefs[2]*data_loc**2 + coefs[3]*data_loc**3 + np.random.normal(0, sigma, num_points)\n",
    "\n",
    "# Plot data:\n",
    "plt.figure(num=None, figsize=(15, 5), dpi=80, facecolor='w', edgecolor='k')\n",
    "\n",
    "font = {'family': 'serif',\n",
    "        'color':  'darkred',\n",
    "        'weight': 'normal',\n",
    "        'size': 16,\n",
    "        }\n",
    "\n",
    "plt.plot(data_loc, data_rec, 'or')\n",
    "plt.title('Linear Regression', fontdict=font)\n",
    "plt.xlabel('x', fontdict=font)\n",
    "plt.ylabel('data', fontdict=font)\n",
    "plt.show()\n",
    "\n",
    "# Calculate regression coefficients:\n",
    "### your code here ###\n",
    "solution = ??? \n",
    "\n",
    "print('Actual coefficients used in creating the data: ', coefs)\n",
    "print('Regressed coefficients after our LST solution: ', solution)"
   ]
  },
  {
   "cell_type": "code",
   "execution_count": null,
   "metadata": {},
   "outputs": [],
   "source": [
    "# Fill in solution to obtain regression:\n",
    "regression_sol = ???\n",
    "\n",
    "# Plot solution:\n",
    "plt.figure(num=None, figsize=(15, 5), dpi=80, facecolor='w', edgecolor='k')\n",
    "\n",
    "font = {'family': 'serif',\n",
    "        'color':  'darkred',\n",
    "        'weight': 'normal',\n",
    "        'size': 16,\n",
    "        }\n",
    "\n",
    "plt.plot(data_loc, data_rec, 'or', data_loc, regression_sol, 'g--')\n",
    "plt.title('Linear Regression', fontdict=font)\n",
    "plt.xlabel('x', fontdict=font)\n",
    "plt.ylabel('data', fontdict=font)\n",
    "plt.gca().legend(('data','regres'))\n",
    "plt.show()"
   ]
  },
  {
   "cell_type": "markdown",
   "metadata": {},
   "source": [
    "## Question 4: Nonlinear Equations"
   ]
  },
  {
   "cell_type": "markdown",
   "metadata": {},
   "source": [
    "<img style=\"float: left;\" src=\"exam/Slide16.PNG\" width=\"100%\">"
   ]
  },
  {
   "cell_type": "markdown",
   "metadata": {},
   "source": [
    "## Answer Q4: "
   ]
  },
  {
   "cell_type": "code",
   "execution_count": null,
   "metadata": {},
   "outputs": [],
   "source": [
    "# Python code block for bisection method\n",
    "# Solve f(x) = x^4 - c = 0, where c = 2\n",
    "import numpy as np\n",
    "\n",
    "\n",
    "c = 2\n",
    "def my_non_linear_func(x):\n",
    "### your code here ###\n",
    "\n",
    "# Define interval on which to search solution:\n",
    "a = ???\n",
    "b = ???\n",
    "xk = (a + b) * 0.5\n",
    "\n",
    "conv_limit = 1e-12\n",
    "max_iter = 100\n",
    "curr_iter = 0\n",
    "\n",
    "### your code here ###\n",
    "\n",
    "print(\"Solution to nonlinear equation is: \", xk, \", after \", curr_iter, \" iterations with Bisection Method\")"
   ]
  },
  {
   "cell_type": "code",
   "execution_count": null,
   "metadata": {},
   "outputs": [],
   "source": [
    "# Python code block for Newton Raphson method\n",
    "# Solve f(x) = x^4 - c = 0, where c = 2 and with initial guess: x_0 = 1\n",
    "import numpy as np\n",
    "\n",
    "\n",
    "c = 2\n",
    "x_0 = ???\n",
    "def my_non_linear_func(x):\n",
    "### your code here ###\n",
    "\n",
    "def my_non_linear_deri(x):\n",
    "### your code here ###\n",
    "\n",
    "# Set convergence criteria and initialize loop\n",
    "conv_limit = 1e-12\n",
    "max_iter = 100\n",
    "curr_iter = 0\n",
    "xk = x_0\n",
    "\n",
    "### your code here ###    \n",
    "\n",
    "print(\"Solution to nonlinear equation is: \", xk, \", after \", curr_iter, \" iterations with Newtons Method\")"
   ]
  },
  {
   "cell_type": "markdown",
   "metadata": {},
   "source": [
    "### END OF EXAM!!!"
   ]
  },
  {
   "cell_type": "markdown",
   "metadata": {},
   "source": [
    "---"
   ]
  }
 ],
 "metadata": {
  "kernelspec": {
   "display_name": "Python 3",
   "language": "python",
   "name": "python3"
  },
  "language_info": {
   "codemirror_mode": {
    "name": "ipython",
    "version": 3
   },
   "file_extension": ".py",
   "mimetype": "text/x-python",
   "name": "python",
   "nbconvert_exporter": "python",
   "pygments_lexer": "ipython3",
   "version": "3.7.6"
  }
 },
 "nbformat": 4,
 "nbformat_minor": 2
}
