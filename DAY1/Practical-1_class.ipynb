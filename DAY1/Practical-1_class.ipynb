{
 "cells": [
  {
   "cell_type": "markdown",
   "metadata": {},
   "source": [
    "# Assignment: Incompressible Single-Phase 1D Simulator\n",
    "### In this assignment, you will be asked to build an incompressible simulator for a single-phase 1D problem. "
   ]
  },
  {
   "cell_type": "markdown",
   "metadata": {},
   "source": [
    "In this block, you will import all the necessary libraries and set the necessary variables that will be used in the simulation. nx represents the number of horizontal distance intervals, k represents the permeability values which can be uniform or varied over the reservoir. The length of the reservoir is defined as length in meters. pres_ini represents the initial pressure in the reservoir in bars, pres_inj represents the pressure at the injection well, and pres_prd represents the pressure at the production well. mu_w represents the viscosity of water in cPoise"
   ]
  },
  {
   "cell_type": "code",
   "execution_count": 34,
   "metadata": {},
   "outputs": [],
   "source": [
    "import numpy as np\n",
    "import matplotlib.pyplot as plt\n",
    "\n",
    "# Defining the given values of our problem:\n",
    "nx = 10        # Number of horizontal distance intervals\n",
    "k = np.ones(nx)*160  \n",
    "\n",
    "length = 1200   # lenght of reservoir in m\n",
    " \n",
    "pres_ini = 150  # initial pressure in reservoir in bars\n",
    "pres_inj = 200  # injection pressure in bars\n",
    "pres_prd = 100  # production pressure in bars\n",
    "\n",
    "mu_w = 1     # viscosity of water in cpoise"
   ]
  },
  {
   "cell_type": "markdown",
   "metadata": {},
   "source": [
    "Add two functions for printing the Jacobian and RHS"
   ]
  },
  {
   "cell_type": "code",
   "execution_count": 35,
   "metadata": {},
   "outputs": [],
   "source": [
    "def matprint(mat, fmt=\"g\"):\n",
    "    col_maxes = [max([len((\"{:\"+fmt+\"}\").format(x)) for x in col]) for col in mat.T]\n",
    "    for x in mat:\n",
    "        for i, y in enumerate(x):\n",
    "            print((\"{:\"+str(col_maxes[i])+fmt+\"}\").format(y), end=\"  \")\n",
    "        print(\"\")\n",
    "        \n",
    "def vecprint(x, fmt=\"g\"):\n",
    "    for i, y in enumerate(x):\n",
    "        print((\"{:\"+str(i)+fmt+\"}\").format(y), end=\"  \")\n",
    "    print(\"\")    "
   ]
  },
  {
   "cell_type": "markdown",
   "metadata": {},
   "source": [
    "In this block, you will define a relationship that calculates a value called $\\Psi$ based on the $k$, $\\mu_w$, and $\\Delta x$ inputs. Then, you will calculate the distance between each point in the reservoir if they are equally spaced, which is given by $\\Delta x$. The value of x is an array of the x-coordinates of the points and $\\Psi$ is a calculated array that contains the value of $\\Psi$ at each point.\n",
    "\n",
    "$\\Psi = {k_x}/({\\mu \\Delta x^2})$"
   ]
  },
  {
   "cell_type": "code",
   "execution_count": 36,
   "metadata": {},
   "outputs": [],
   "source": [
    "# Calculating the distance between each point if we equally space them \n",
    "dx = length / (nx - 1)\n",
    "x = np.linspace(0, length, nx)\n",
    "\n",
    "Psi = k / mu_w / dx**2"
   ]
  },
  {
   "cell_type": "markdown",
   "metadata": {},
   "source": [
    "Implement a function called \"get_matrix\" that takes in two variables, the number of degrees of points \"n\" and the constant \"Psi\". The function should return a matrix \"K\". The student should create a n x n matrix filled with zeros using numpy and then for each point from 1 to n-1, add the influence of the point and its surroundings on the matrix. The influence on each point should be calculated by adding 2 times $\\Psi$ to the value on the diagonal of the matrix, subtracting $\\Psi$ from the value on the row above the diagonal and subtracting $\\Psi$ from the value on the row below the diagonal. The final result should be the matrix K.\n",
    "\n",
    "\\begin{equation}\n",
    "\\label{incompressible_flow_discretized}\n",
    "{\\Psi p_{i+1} - 2\\Psi p_i + \\Psi p_{i-1}} = 0.\n",
    "\\end{equation}\n"
   ]
  },
  {
   "cell_type": "code",
   "execution_count": 37,
   "metadata": {},
   "outputs": [],
   "source": [
    "# %%\n",
    "# The get_Matrix function which returns matrix K and receives as variables:\n",
    "# - The number of degrees of points \"n\"\n",
    "# - The distance between points \"dx\" (Δx in the equations)\n",
    "# - The constant \"nu\"\n",
    "def get_matrix(n, Psi):\n",
    "    \n",
    "    # Create an n x n matrix with zeros on every entry\n",
    "    K = np.zeros((n,n))\n",
    "    \n",
    "    # For each point in from 1 to n-1 add the influence of the point and of it's surroundings\n",
    "    for i in range(1, n-1):\n",
    "        K[i, i] = 2 * Psi[i]\n",
    "        K[i, i-1] = - Psi[i]\n",
    "        K[i, i+1] = - Psi[i]\n",
    "        \n",
    "    return K"
   ]
  },
  {
   "cell_type": "markdown",
   "metadata": {},
   "source": [
    "Implement the function apply_BCs which takes as inputs a matrix K, a vector f, the value of pressure P_left at the injection well, the value of pressure P_right at the production well, the well transmisibility coefficient tau, and the value of the mobility term Psi. The function adjusts the matrices K and f to account for boundary conditions by updating the first and last rows of matrix K and first and last entries of vector f as follows: for the first row of K, the first entry is set to the sum of tau[0] and Psi[0], the second entry is set to the negative of Psi[0], and the first entry of f is set to the product of tau[0] and P_left. For the last row of K, the last entry is set to the sum of tau[-1] and Psi[-1], the second-to-last entry is set to the negative of Psi[-1], and the last entry of f is set to the product of tau[-1] and P_right.\n",
    "\n",
    "\\begin{equation}\n",
    "\\label{incompressible_flow_discretized_boundary}\n",
    "{-\\Psi p_1 + 2 \\Psi p_0} = \\Psi p^{wi}, \\quad { 2 \\Psi p_{n-1} - \\Psi p_{n-2}} = \\Psi p^{wp}.\n",
    "\\end{equation}\n",
    "\n",
    "\n"
   ]
  },
  {
   "cell_type": "code",
   "execution_count": 38,
   "metadata": {},
   "outputs": [],
   "source": [
    "## %%\n",
    "# The apply_BCs function adapts matrix K and vector f to ensure boundary conditions will be satisfied. Inputs:\n",
    "# - K matrix\n",
    "# - f vector\n",
    "# - the temperature on the left side \"T_left\"\n",
    "# - the temperature on the right side \"T_right\"\n",
    "\n",
    "def apply_BCs(K, f, P_left, P_right, Psi):\n",
    "    '''Adjusts the K and f matrices to account for boundary conditions.\n",
    "    Inputs:\n",
    "    K: matrix ; type = float\n",
    "    f: vector ; type = float\n",
    "    P_left: Pressure at injection well ; type = float\n",
    "    P_right: Pressure at production well ; type = float\n",
    "    Psi: well transmisibility coefficient\n",
    "    '''\n",
    "    #Apply boundary condition at left side:\n",
    "    K[0, 0] = 2 * Psi[0]\n",
    "    K[0, 1] = - Psi[0] \n",
    "    f[0] = Psi[0] * P_left\n",
    "\n",
    "    #Apply boundary condition at right side:\n",
    "    K[-1, -1] = 2 * Psi[-1]\n",
    "    K[-1, -2] = - Psi[-1]\n",
    "    f[-1] = Psi[-1] * P_right"
   ]
  },
  {
   "cell_type": "markdown",
   "metadata": {},
   "source": [
    "Retrieve the matrix that relates u to the source f by calling the get_matrix function and passing in nx and Psi as arguments. Then call the apply_BCs function and pass in K, f, pres_inj, pres_prd, [Psi[0], Psi[-1]], and Lambda as arguments. Use numpy's linalg.solve function to calculate the pressure at each point in the grid (P) by solving the equation $P = K^{-1} f$. Finally, plot the pressure along the x axis using matplotlib's plot function, labeling the x axis as \"x\" and the y axis as \"Pressure [bar]\"."
   ]
  },
  {
   "cell_type": "code",
   "execution_count": 39,
   "metadata": {},
   "outputs": [
    {
     "data": {
      "image/png": "[encoded data removed]",
      "text/plain": [
       "<Figure size 432x288 with 1 Axes>"
      ]
     },
     "metadata": {
      "needs_background": "light"
     },
     "output_type": "display_data"
    }
   ],
   "source": [
    "# %%\n",
    "#Get the matrix that relates u to source f using the getMatrix function\n",
    "K = get_matrix(nx, Psi) \n",
    "\n",
    "#creating vector with source values\n",
    "f = np.zeros(nx)\n",
    "\n",
    "apply_BCs(K, f, pres_inj, pres_prd, Psi) \n",
    "#matprint(K)\n",
    "\n",
    "#Calculate p since p = K^-1 * f and K and f are known\n",
    "P = np.linalg.solve(K, f)\n",
    "\n",
    "# #### Plotting the result\n",
    "\n",
    "# %%\n",
    "plt.plot(x, P)\n",
    "plt.xlabel('x')\n",
    "plt.ylabel('Pressure [bar]')\n",
    "plt.show()\n"
   ]
  },
  {
   "cell_type": "markdown",
   "metadata": {},
   "source": []
  }
 ],
 "metadata": {
  "kernelspec": {
   "display_name": "Python 3 (ipykernel)",
   "language": "python",
   "name": "python3"
  },
  "language_info": {
   "codemirror_mode": {
    "name": "ipython",
    "version": 3
   },
   "file_extension": ".py",
   "mimetype": "text/x-python",
   "name": "python",
   "nbconvert_exporter": "python",
   "pygments_lexer": "ipython3",
   "version": "3.9.7"
  },
  "vscode": {
   "interpreter": {
    "hash": "d4085d0123393a7f75169ee9deeeb086784cb2ac5711ec5b9a7301766e5033b4"
   }
  }
 },
 "nbformat": 4,
 "nbformat_minor": 2
}
