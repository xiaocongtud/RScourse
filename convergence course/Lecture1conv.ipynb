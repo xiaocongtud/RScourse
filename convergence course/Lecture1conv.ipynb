{
 "cells": [
  {
   "cell_type": "markdown",
   "metadata": {},
   "source": [
    "# Introduction to Programming in Python, Mathematics, Statistics, and Modeling\n",
    "## Overview full course\n",
    "This course is part of the Grand Energy Challenge. Major components of this course are:\n",
    "* Programming in Python\n",
    "* Linear Algebra\n",
    "* Numerical methods\n",
    "* Solving simple ODE's\n",
    "* Statistics\n",
    "\n",
    "This course consists of 4 lectures. In order to succesfully complete this course it is mandatory to perform self-study on the lecture materials and online exercises. At the end of the quarter there will be a 1.5 hour test to determine if you pass the course or not. "
   ]
  },
  {
   "cell_type": "markdown",
   "metadata": {},
   "source": [
    "It is recommended to install the standard Python package locally to your PC. We recommend __[Anaconda](https://www.anaconda.com/products/individual)__ but it can be any other package. If you have problems intalling it, check __[this link](https://medium.com/@GalarnykMichael/install-python-anaconda-on-windows-2020-f8e188f9a63d)__ for help."
   ]
  },
  {
   "cell_type": "markdown",
   "metadata": {},
   "source": [
    "# Brief introduction to using Jupyter Notebook\n",
    "Every notebook is subdivided into sections, denoted as **cells**. The two types of cells that you will encounter during this course are:\n",
    "* Markdown cells --> These cells can interpret Markdown Language (Lightweight Markup language written in plain text) as well as HTML Language\n",
    "* Code cells --> These cells are interpreted by Jupyter using a kernel, typically set to Python 3 \n",
    "\n",
    "You can edit (enter **Edit Mode**) each and every cell by simply selecting the cell you want to edit and pressing **enter** or double clicking the (left mouse button) on the cell you wish to modify. Once you are ready simple press **ctrl + enter** to run the cell (the Markdown or Code cell will be interpreter and the result will be displayed) \n",
    "\n",
    "To better understand the User Interface (UI) of Jupyter Notebook, please go to the **Help** tab in the top menu and select **User Interface Tour**. \n",
    "\n",
    "There are two main operating modes in Jupyter Notebook:\n",
    "* **Command Mode**, indicated by the <font color = blue>Blue</font> color on the left side of the cell (have simply selected the cell)\n",
    "* **Edit Mode**, indicated by the <font color = green>Green</font> color on the left side of the cell (are actually editing currently selected cell)\n",
    "\n",
    "Here is a list of commands that you will frequently use when creating your own Jupyter Notebook:\n",
    "### Command mode\n",
    "* **A**: insert cell **a**bove\n",
    "* **B**: insert cell **b**elow\n",
    "* **X**: cut selected cells\n",
    "* **C**: copy selected cells\n",
    "* **Shift + V**: paste cells above\n",
    "* **V**: paste cells below\n",
    "* **Ctrl  + S**: Save and Checkpoint\n",
    "* **Y**: change cell to code\n",
    "* **M**: change cell to **m**arkdown\n",
    "* **Shift + Enter**: run cell, select below\n",
    "* **Ctrl + Enter**: run selected cells\n",
    "* **Enter**: enter edit mode\n",
    "\n",
    "### Edit mode\n",
    "* **Tab**: code completion or indent\n",
    "* **Ctrl + ]**: indent \n",
    "* **Ctrl + [**: dedent\n",
    "* **Ctrl + /**: comment \n",
    "* **Ctrl + z**: undo\n",
    "* **Ctrl + Home**: go to cell start\n",
    "* Same commands (as in Command mode) work if you want to run cell! "
   ]
  },
  {
   "cell_type": "markdown",
   "metadata": {},
   "source": [
    "## First lecture: Introduction to Programming in Python"
   ]
  },
  {
   "cell_type": "markdown",
   "metadata": {},
   "source": [
    "<img style=\"float: left;\" src=\"lecture_01_a/Slide2.PNG\" width=\"100%\">"
   ]
  },
  {
   "cell_type": "markdown",
   "metadata": {},
   "source": [
    "<img style=\"float: left;\" src=\"lecture_01_a/Slide4.PNG\" width=\"100%\">"
   ]
  },
  {
   "cell_type": "markdown",
   "metadata": {},
   "source": [
    "<img style=\"float: left;\" src=\"lecture_01_a/Slide5.PNG\" width=\"100%\">"
   ]
  },
  {
   "cell_type": "markdown",
   "metadata": {},
   "source": [
    "<img style=\"float: left;\" src=\"lecture_01_a/Slide6.PNG\" width=\"100%\">"
   ]
  },
  {
   "cell_type": "markdown",
   "metadata": {},
   "source": [
    "<img style=\"float: left;\" src=\"lecture_01_a/Slide7.PNG\" width=\"100%\">"
   ]
  },
  {
   "cell_type": "markdown",
   "metadata": {},
   "source": [
    "<img style=\"float: left;\" src=\"lecture_01_a/Slide8.PNG\" width=\"100%\">"
   ]
  },
  {
   "cell_type": "markdown",
   "metadata": {},
   "source": [
    "<img style=\"float: left;\" src=\"lecture_01_a/Slide9.PNG\" width=\"100%\">"
   ]
  },
  {
   "cell_type": "markdown",
   "metadata": {},
   "source": [
    "<img style=\"float: left;\" src=\"lecture_01_a/Slide10.PNG\" width=\"100%\">"
   ]
  },
  {
   "cell_type": "markdown",
   "metadata": {},
   "source": [
    "<img style=\"float: left;\" src=\"lecture_01_a/Slide42.PNG\" width=\"100%\">"
   ]
  },
  {
   "cell_type": "markdown",
   "metadata": {},
   "source": [
    "<img style=\"float: left;\" src=\"lecture_01_a/Slide43.PNG\" width=\"100%\">"
   ]
  },
  {
   "cell_type": "markdown",
   "metadata": {},
   "source": [
    "<img style=\"float: left;\" src=\"lecture_01_a/Slide44.PNG\" width=\"100%\">"
   ]
  },
  {
   "cell_type": "markdown",
   "metadata": {},
   "source": [
    "---"
   ]
  },
  {
   "cell_type": "markdown",
   "metadata": {},
   "source": [
    "## Example, fix the following code"
   ]
  },
  {
   "cell_type": "code",
   "execution_count": null,
   "metadata": {},
   "outputs": [],
   "source": [
    "# Some practice (fix the following code): \n",
    "1_my_first_variable = 1"
   ]
  },
  {
   "cell_type": "code",
   "execution_count": null,
   "metadata": {},
   "outputs": [],
   "source": [
    "# Some practice (fix the following code): \n",
    "my second variable = 2"
   ]
  },
  {
   "cell_type": "code",
   "execution_count": null,
   "metadata": {},
   "outputs": [],
   "source": [
    "# Some practice (fix the following code): \n",
    "def my_function(input_variable)\n",
    "return input_variable**2"
   ]
  },
  {
   "cell_type": "code",
   "execution_count": null,
   "metadata": {},
   "outputs": [],
   "source": [
    "# Some practice (fix the following code): \n",
    "square = my_function[2]"
   ]
  },
  {
   "cell_type": "code",
   "execution_count": null,
   "metadata": {},
   "outputs": [],
   "source": [
    "# The first program: define two variables equal to 3 and 5, output sum of their squares and square of their sum  \n",
    "\n",
    "#define you variables here\n",
    "\n",
    "def square_function(input_variable):\n",
    "# write code for function here  .....\n",
    "\n",
    "# compute sum_of_squares using function .....\n",
    "print(sum_of_squares)\n",
    "\n",
    "# compute square_of_sum using function .....\n",
    "print(square_of_sum)"
   ]
  },
  {
   "cell_type": "markdown",
   "metadata": {},
   "source": [
    "---"
   ]
  },
  {
   "cell_type": "markdown",
   "metadata": {},
   "source": [
    "<img style=\"float: left;\" src=\"lecture_01_a/Slide11.PNG\" width=\"100%\">"
   ]
  },
  {
   "cell_type": "markdown",
   "metadata": {},
   "source": [
    "## Example: Play around with basic coding flows"
   ]
  },
  {
   "cell_type": "code",
   "execution_count": null,
   "metadata": {},
   "outputs": [],
   "source": [
    "# Sequential execution of code:\n",
    "year = 2019\n",
    "print(\"Hello World\")\n",
    "print(\"It's the year\", year)\n"
   ]
  },
  {
   "cell_type": "code",
   "execution_count": null,
   "metadata": {},
   "outputs": [],
   "source": [
    "# Conditional/Branching:\n",
    "is_my_birthday = False\n",
    "name = \"John Doe\"\n",
    "\n",
    "if is_my_birthday:\n",
    "    print(\"Congratualitions \", name, \" with your birthday!\")\n",
    "else:\n",
    "    print(\"Greetings \", name)"
   ]
  },
  {
   "cell_type": "code",
   "execution_count": null,
   "metadata": {},
   "outputs": [],
   "source": [
    "# Iteration/Repetition/Loops:\n",
    "max_iter = 5\n",
    "\n",
    "#while (iter_count < max_iter):\n",
    "for iter_count in range(max_iter):\n",
    "    print(\"Current iteration: \", iter_count)\n",
    "    iter_count += 1"
   ]
  },
  {
   "cell_type": "code",
   "execution_count": null,
   "metadata": {},
   "outputs": [],
   "source": [
    "# Starting from beginning of the month, output in the loop\n",
    "# how many days are left till your birthday until it happend;\n",
    "# write congratulation on birthday day mentioning day of week\n",
    "my_birthday = 12  # note this is actually the 13th!\n",
    "days_week = ['Monday', 'Tuesday', 'Wednesday', 'Thursday', 'Friday', 'Saturday', 'Sunday']\n",
    "days_in_this_month = 30\n",
    "day_month_starts = 1 # note, this is Tuesday, not Monday\n",
    "\n",
    "for day in range(days_in_this_month):\n",
    "    if (day == my_birthday):\n",
    "        print('Congratulation')\n",
    "        \n",
    "        remainder = (day + day_month_starts) % len(days_week)\n",
    "        print(\"Enjoy your \", days_week[remainder])\n",
    "        break\n",
    "    else:\n",
    "        print(my_birthday - day, \" days left\")\n",
    "        "
   ]
  },
  {
   "cell_type": "markdown",
   "metadata": {},
   "source": [
    "<img style=\"float: left;\" src=\"lecture_01_b/Slide9.PNG\" width=\"100%\">"
   ]
  },
  {
   "cell_type": "markdown",
   "metadata": {},
   "source": [
    "<img style=\"float: left;\" src=\"lecture_01_b/Slide10.PNG\" width=\"100%\">"
   ]
  },
  {
   "cell_type": "markdown",
   "metadata": {},
   "source": [
    "<img style=\"float: left;\" src=\"lecture_01_a/Slide12.PNG\" width=\"100%\">"
   ]
  },
  {
   "cell_type": "markdown",
   "metadata": {},
   "source": [
    "<img style=\"float: left;\" src=\"lecture_01_a/Slide13.PNG\" width=\"100%\">"
   ]
  },
  {
   "cell_type": "markdown",
   "metadata": {},
   "source": [
    "<img style=\"float: left;\" src=\"lecture_01_a/Slide14.PNG\" width=\"100%\">"
   ]
  },
  {
   "cell_type": "markdown",
   "metadata": {},
   "source": [
    "<img style=\"float: left;\" src=\"lecture_01_a/Slide15.PNG\" width=\"100%\">"
   ]
  },
  {
   "cell_type": "code",
   "execution_count": null,
   "metadata": {},
   "outputs": [],
   "source": [
    "# We are going to implement here the algorithm outlined above using the flowchart as our guide! \n",
    "\n",
    "list_of_numbers = [10, 20, 30, 50, 1, 2, 99, 102, 4, 5, 105, 120, 5, 3, 1, 1, 10]\n",
    "\n",
    "max_L = 0\n",
    "count = 0\n",
    "\n",
    "size_list = len(list_of_numbers)\n",
    "for x in list_of_numbers:\n",
    "    if x > max_L:\n",
    "        max_L = x\n",
    "\n",
    "print(\"The largest number in the list is: \", max_L)"
   ]
  },
  {
   "cell_type": "code",
   "execution_count": null,
   "metadata": {},
   "outputs": [],
   "source": [
    "# Check which list contains the largest number:\n",
    "list_A = [10, 20, 30, 50, 1, 2, 99, 102, 4, 5, 105, 120, 5, 3, 1, 1, 10]\n",
    "list_B = [10, 20, 30, 50, 1, 2, 99, 102, 4, 5, 105, 119, 5, 3, 1, 1, 10]\n",
    "list_C = [10, 20, 30, 50, 1, 2, 99, 102, 4, 5, 105, 121, 5, 3, 1, 1, 10]\n",
    "list_name = ['A', 'B', 'C']\n",
    "\n",
    "# write your code here .....\n",
    "\n",
    "print(\"List :\", list_name[pos], \" has the biggest number: \", max_L)"
   ]
  },
  {
   "cell_type": "markdown",
   "metadata": {},
   "source": [
    "## How to do this smarter? "
   ]
  },
  {
   "cell_type": "markdown",
   "metadata": {},
   "source": [
    "<img style=\"float: left;\" src=\"lecture_01_a/Slide16.PNG\" width=\"100%\">"
   ]
  },
  {
   "cell_type": "code",
   "execution_count": null,
   "metadata": {},
   "outputs": [],
   "source": [
    "# Same procedure as above: \n",
    "list_A = [10, 20, 30, 50, 1, 2, 99, 102, 4, 5, 105, 120, 5, 3, 1, 1, 10]\n",
    "list_B = [10, 20, 30, 50, 1, 2, 99, 102, 4, 5, 105, 119, 5, 3, 1, 1, 10]\n",
    "list_C = [10, 20, 30, 50, 1, 2, 99, 102, 4, 5, 105, 121, 5, 3, 1, 1, 10]\n",
    "list_name = ['A', 'B', 'C']\n",
    "\n",
    "# Create a function that calculates the maximum number in a list and the position:\n",
    "def calc_max(list_of_numbers):\n",
    "    max_L = 0\n",
    "    max_I = 0\n",
    "    size_list = len(list_of_numbers)\n",
    "    for count in range(size_list):\n",
    "        x = list_of_numbers[count]\n",
    "        if x > max_L:\n",
    "            max_L = x\n",
    "            max_I = count\n",
    "            \n",
    "    return (max_L, max_I)\n",
    "\n",
    "(max_L1, dummy) = calc_max(list_A)\n",
    "(max_L2, dummy) = calc_max(list_B)\n",
    "(max_L3, dummy) = calc_max(list_C)\n",
    "\n",
    "list_name = ['A', 'B', 'C']\n",
    "\n",
    "max_list = []\n",
    "max_list.append(max_L1)\n",
    "max_list.append(max_L2)\n",
    "max_list.append(max_L3)\n",
    "\n",
    "max_L, max_I = calc_max(max_list)\n",
    "\n",
    "print(\"Max number = \", max_L)\n",
    "print(\"Max list = \", list_name[max_I])"
   ]
  },
  {
   "cell_type": "markdown",
   "metadata": {},
   "source": [
    "<img style=\"float: left;\" src=\"lecture_01_a/Slide17.PNG\" width=\"100%\">"
   ]
  },
  {
   "cell_type": "markdown",
   "metadata": {},
   "source": [
    "<img style=\"float: left;\" src=\"lecture_01_a/Slide18.PNG\" width=\"100%\">"
   ]
  },
  {
   "cell_type": "markdown",
   "metadata": {},
   "source": [
    "<img style=\"float: left;\" src=\"lecture_01_a/Slide19.PNG\" width=\"100%\">"
   ]
  },
  {
   "cell_type": "markdown",
   "metadata": {},
   "source": [
    "<img style=\"float: left;\" src=\"lecture_01_a/Slide20.PNG\" width=\"100%\">"
   ]
  },
  {
   "cell_type": "markdown",
   "metadata": {},
   "source": [
    "<img style=\"float: left;\" src=\"lecture_01_a/Slide21.PNG\" width=\"100%\">"
   ]
  },
  {
   "cell_type": "markdown",
   "metadata": {},
   "source": [
    "<img style=\"float: left;\" src=\"lecture_01_a/Slide22.PNG\" width=\"100%\">"
   ]
  },
  {
   "cell_type": "markdown",
   "metadata": {},
   "source": [
    "<img style=\"float: left;\" src=\"lecture_01_a/Slide23.PNG\" width=\"100%\">"
   ]
  },
  {
   "cell_type": "markdown",
   "metadata": {},
   "source": [
    "<img style=\"float: left;\" src=\"lecture_01_a/Slide24.PNG\" width=\"100%\">"
   ]
  },
  {
   "cell_type": "markdown",
   "metadata": {},
   "source": [
    "<img style=\"float: left;\" src=\"lecture_01_a/Slide25.PNG\" width=\"100%\">"
   ]
  },
  {
   "cell_type": "markdown",
   "metadata": {},
   "source": [
    "<img style=\"float: left;\" src=\"lecture_01_a/Slide26.PNG\" width=\"100%\">"
   ]
  },
  {
   "cell_type": "markdown",
   "metadata": {},
   "source": [
    "<img style=\"float: left;\" src=\"lecture_01_a/Slide28.PNG\" width=\"100%\">"
   ]
  },
  {
   "cell_type": "markdown",
   "metadata": {},
   "source": [
    "<img style=\"float: left;\" src=\"lecture_01_a/Slide29.PNG\" width=\"100%\">"
   ]
  },
  {
   "cell_type": "markdown",
   "metadata": {},
   "source": [
    "<img style=\"float: left;\" src=\"lecture_01_a/Slide30.PNG\" width=\"100%\">"
   ]
  },
  {
   "cell_type": "markdown",
   "metadata": {},
   "source": [
    "<img style=\"float: left;\" src=\"lecture_01_a/Slide31.PNG\" width=\"100%\">"
   ]
  },
  {
   "cell_type": "markdown",
   "metadata": {},
   "source": [
    "<img style=\"float: left;\" src=\"lecture_01_a/Slide32.PNG\" width=\"100%\">"
   ]
  },
  {
   "cell_type": "markdown",
   "metadata": {},
   "source": [
    "## Useful sources to check if your question has already been solved by someone else :) \n",
    "(from slide)\n",
    "* https://stackoverflow.com/ \n",
    "* https://www.quora.com \n",
    "* https://www.reddit.com/r/Python/"
   ]
  },
  {
   "cell_type": "markdown",
   "metadata": {},
   "source": [
    "<img style=\"float: left;\" src=\"lecture_01_a/Slide33.PNG\" width=\"100%\">"
   ]
  },
  {
   "cell_type": "markdown",
   "metadata": {},
   "source": [
    "<img style=\"float: left;\" src=\"lecture_01_a/Slide34.PNG\" width=\"100%\">"
   ]
  },
  {
   "cell_type": "markdown",
   "metadata": {},
   "source": [
    "## Already know MATLAB? \n",
    "Use these very easy “cheat sheets” to convert your MATLAB knowledge directly to Python :)\n",
    "* https://docs.scipy.org/doc/numpy/user/numpy-for-matlab-users.html\n",
    "* http://mathesaurus.sourceforge.net/matlab-numpy.html\n",
    "* https://cheatsheets.quantecon.org/\n",
    "* http://liacs.leidenuniv.nl/~csnaco/EA/misc/cheetsheet.pdf?v=27-03-2017"
   ]
  },
  {
   "cell_type": "markdown",
   "metadata": {},
   "source": [
    "## Some more programming and info to get started with Python:"
   ]
  },
  {
   "cell_type": "markdown",
   "metadata": {},
   "source": [
    "<img style=\"float: left;\" src=\"lecture_01_b/Slide2.PNG\" width=\"100%\">"
   ]
  },
  {
   "cell_type": "markdown",
   "metadata": {},
   "source": [
    "<img style=\"float: left;\" src=\"lecture_01_b/Slide4.PNG\" width=\"100%\">"
   ]
  },
  {
   "cell_type": "code",
   "execution_count": null,
   "metadata": {},
   "outputs": [],
   "source": [
    "# Adding two strings:\n",
    "str1 = 'hello'\n",
    "str2 = \"world\"\n",
    "msg = str1 + \" \" + str2\n",
    "print(msg)\n",
    "\n",
    "# What properties does a string class have:\n",
    "print(str.upper(msg))\n",
    "print(str.isnumeric(msg))\n",
    "print(str.isnumeric('1'))"
   ]
  },
  {
   "cell_type": "code",
   "execution_count": null,
   "metadata": {},
   "outputs": [],
   "source": [
    "# Adding two integers:\n",
    "int1 = 3\n",
    "int2 = 7\n",
    "\n",
    "print(int1 + int2)  # is also of class int\n",
    "print(int1 * int2)  # is also of class int\n",
    "print(int1 / int2)  # is of class int if result is an integer, is of class floating is result is non-integer\n",
    "print(int(int1 / int2))  # e.g. in C++ you have to be more careful, devision of two integers always return an int!  \n",
    "print(int2 % int1)  # is also of class int\n",
    "\n",
    "# What if now one is a float?:\n",
    "int1 = 3.0\n",
    "int2 = 7\n",
    "\n",
    "print(int1 + int2)  # result is of class float\n",
    "print(int1 * int2)  # result is of class float"
   ]
  },
  {
   "cell_type": "code",
   "execution_count": null,
   "metadata": {},
   "outputs": [],
   "source": [
    "# Some calculations with bool:\n",
    "bool1 = True\n",
    "bool2 = False\n",
    "\n",
    "print(bool1 and bool1)  \n",
    "print(bool1 * bool2)\n",
    "print(bool2 * bool2)\n",
    "\n",
    "# Please note:\n",
    "print(type(bool1 and bool1))\n",
    "\n",
    "# But even though it is an int, 1 is still True and 0 is Still False:\n",
    "if (1):\n",
    "    print('This is true!')\n",
    "    \n",
    "if (not bool2 * bool2):\n",
    "    print('This is False!')"
   ]
  },
  {
   "cell_type": "markdown",
   "metadata": {},
   "source": [
    "<img style=\"float: left;\" src=\"lecture_01_b/Slide5.PNG\" width=\"100%\">"
   ]
  },
  {
   "cell_type": "code",
   "execution_count": null,
   "metadata": {},
   "outputs": [],
   "source": [
    "# Practice with list here:\n",
    "# Create empty list:\n",
    "my_geometries = []\n",
    "\n",
    "# Append (add to the end of the list) and item:\n",
    "my_geometries.append('triangle')\n",
    "\n",
    "# Append another item:\n",
    "my_geometries.append('quad')\n",
    "\n",
    "# Prepend an item (line, lower in dimensionality than triangle so preferable before triangle):\n",
    "my_geometries.insert(0, 'line')\n",
    "print(my_geometries)\n",
    "# or do:\n",
    "my_geometries.remove('line')\n",
    "my_geometries = my_geometries + ['line']\n",
    "print(my_geometries)\n",
    "\n",
    "# Get length list:\n",
    "print(len(my_geometries))\n",
    "\n",
    "# Get first item in list (start counting from 0 to len(list) - 1)\n",
    "print(my_geometries[0])\n",
    "\n",
    "# Get last item in list (negative starts counting from end of list, so -1 is last item in the list, -2 is second last item, ...):\n",
    "print(my_geometries[-1])"
   ]
  },
  {
   "cell_type": "markdown",
   "metadata": {},
   "source": [
    "<img style=\"float: left;\" src=\"lecture_01_b/Slide6.PNG\" width=\"100%\">"
   ]
  },
  {
   "cell_type": "code",
   "execution_count": null,
   "metadata": {},
   "outputs": [],
   "source": [
    "# Practice with tuple here:\n",
    "def my_method(x, y):\n",
    "    subtract = x - y\n",
    "    multiply = x * y\n",
    "    divide = x / y\n",
    "    return (subtract, multiply, divide)\n",
    "\n",
    "x = 10\n",
    "y = 20\n",
    "output = my_method(x, y)\n",
    "\n",
    "# Print first item in tuple:\n",
    "print(x, '-', y, '= ', output[0])  # also for tuples you use square brackets for indexing!"
   ]
  },
  {
   "cell_type": "markdown",
   "metadata": {},
   "source": [
    "<img style=\"float: left;\" src=\"lecture_01_b/Slide7.PNG\" width=\"100%\">"
   ]
  },
  {
   "cell_type": "code",
   "execution_count": null,
   "metadata": {},
   "outputs": [],
   "source": [
    "# Create three dictionaries:\n",
    "dic1 = {'key1': 'Hello World', 'key2': True}\n",
    "dic2 = {'key3': 1e-2, 'key4': 'Bye World'}\n",
    "dic3 = {'key5': False, 'key6': 100}\n",
    "\n",
    "# Create iterable over all existing dictionaries:\n",
    "dict_iterable = (dic1, dic2, dic3)\n",
    "\n",
    "# Create empty new dictionary:\n",
    "dic4 = {}\n",
    "\n",
    "# Iterate over all dictionaries:\n",
    "for d in dict_iterable:\n",
    "    # Update dictionary (add key + value pair(s))\n",
    "    dic4.update(d)\n",
    "\n",
    "print(dic4)\n",
    "print(dic4['key3'])"
   ]
  },
  {
   "cell_type": "markdown",
   "metadata": {},
   "source": [
    "<img style=\"float: left;\" src=\"lecture_01_b/Slide8.PNG\" width=\"100%\">"
   ]
  },
  {
   "cell_type": "code",
   "execution_count": null,
   "metadata": {},
   "outputs": [],
   "source": [
    "# Create a new set\n",
    "num_set = set([0, 1, 2, 3, 4, 5])\n",
    "\n",
    "# Discard number 4\n",
    "num_set.discard(4)\n",
    "print(num_set)\n",
    "\n",
    "# Find intersection of these two sets:\n",
    "the_netherlands = {'Apeldoorn', 'Delft', 'Amsterdam'}\n",
    "capitals_world = {'Amsterdam', 'London'}\n",
    "\n",
    "# code here:\n",
    "# What is the capital of the Netherlands:\n",
    "print('The capital of the Netherlands is: ', set.intersection(the_netherlands, capitals_world))"
   ]
  },
  {
   "cell_type": "markdown",
   "metadata": {},
   "source": [
    "## Manipulating data structures"
   ]
  },
  {
   "cell_type": "markdown",
   "metadata": {},
   "source": [
    "<img style=\"float: left;\" src=\"lecture_01_b/Slide11.PNG\" width=\"100%\">"
   ]
  },
  {
   "cell_type": "code",
   "execution_count": null,
   "metadata": {},
   "outputs": [],
   "source": [
    "# Create a 2D array of ones, then replace the inner entries \n",
    "# (not on the boundary) with zeros:\n",
    "import numpy as np\n",
    "x = np.ones((5,5))\n",
    "print(\"Original array:\")\n",
    "print(x)"
   ]
  },
  {
   "cell_type": "code",
   "execution_count": null,
   "metadata": {},
   "outputs": [],
   "source": [
    "print(\"1 on the border and 0 inside in the array\")\n",
    "x[1:-1,1:-1] = 0\n",
    "print(x)"
   ]
  },
  {
   "cell_type": "markdown",
   "metadata": {},
   "source": [
    "<img style=\"float: left;\" src=\"lecture_01_b/Slide12.PNG\" width=\"100%\">"
   ]
  },
  {
   "cell_type": "code",
   "execution_count": null,
   "metadata": {},
   "outputs": [],
   "source": [
    "# Practice with manipulating lists here:\n",
    "color_list=[\"Red\", \"Blue\", \"Green\", \"Black\"]\n",
    "print(color_list[0])\n",
    "\n",
    "color_list[0]=\"White\" # Change the value of first item \"Red\" to \"White\"\n",
    "print(color_list)\n",
    "\n",
    "print(color_list[0])"
   ]
  },
  {
   "cell_type": "markdown",
   "metadata": {},
   "source": [
    "## How to write a list to a file?"
   ]
  },
  {
   "cell_type": "code",
   "execution_count": null,
   "metadata": {},
   "outputs": [],
   "source": [
    "# Print the following list to a file:\n",
    "color = ['Red', 'Green', 'White', 'Black', 'Pink', 'Yellow']\n",
    "print(color)\n",
    "\n",
    "# code here:\n",
    "with open('abc.txt', \"w\") as myfile:\n",
    "    for c in color:\n",
    "        myfile.write(\"%s\\n\" % c)\n",
    "\n",
    "content = open('abc.txt')\n",
    "print(content.read())"
   ]
  },
  {
   "cell_type": "markdown",
   "metadata": {},
   "source": [
    "<img style=\"float: left;\" src=\"lecture_01_b/Slide13.PNG\" width=\"100%\">"
   ]
  },
  {
   "cell_type": "code",
   "execution_count": null,
   "metadata": {},
   "outputs": [],
   "source": [
    "# Find the maximum and minimum value of a Python dictionary:\n",
    "my_dict = {'x':500, 'y':5874, 'z': 560}\n",
    "\n",
    "# code here:\n",
    "key_max = max(my_dict.keys(), key=(lambda k: my_dict[k]))\n",
    "key_min = min(my_dict.keys(), key=(lambda k: my_dict[k]))\n",
    "\n",
    "print('Maximum Value: ',my_dict[key_max])\n",
    "print('Minimum Value: ',my_dict[key_min])"
   ]
  },
  {
   "cell_type": "markdown",
   "metadata": {},
   "source": [
    "## How about Numpy Arrays? "
   ]
  },
  {
   "cell_type": "code",
   "execution_count": null,
   "metadata": {},
   "outputs": [],
   "source": [
    "# Check if arrays have common entries:\n",
    "import numpy as np\n",
    "array1 = np.array([0, 10, 20, 40, 60])\n",
    "print(\"Array1: \",array1)\n",
    "array2 = [10, 30, 40]\n",
    "print(\"Array2: \",array2)\n",
    "\n",
    "# code here:\n",
    "print(\"Common values between two arrays:\")\n",
    "print(np.intersect1d(array1, array2))\n",
    "print()"
   ]
  },
  {
   "cell_type": "code",
   "execution_count": null,
   "metadata": {},
   "outputs": [],
   "source": [
    "# Check if elements are bigger, equal, smaller:\n",
    "a = np.array([1, 2])\n",
    "b = np.array([4, 5])\n",
    "print(\"Array a: \",a)\n",
    "print(\"Array b: \",b)\n",
    "\n",
    "# code here:\n",
    "print(\"a > b\")\n",
    "print(np.greater(a, b))\n",
    "print(\"a >= b\")\n",
    "print(np.greater_equal(a, b))\n",
    "print(\"a < b\")\n",
    "print(np.less(a, b))\n",
    "print(\"a <= b\")\n",
    "print(np.less_equal(a, b))\n",
    "print()"
   ]
  },
  {
   "cell_type": "code",
   "execution_count": null,
   "metadata": {},
   "outputs": [],
   "source": [
    "# Check if number is in 2D array:\n",
    "x = np.array([[1.12, 2.0, 3.45], [2.33, 5.12, 6.0]], float) \n",
    "print(\"Original array:\")\n",
    "print(x)\n",
    "\n",
    "# code here:\n",
    "print(2 in x)\n",
    "print(0 in x)\n",
    "print(6 in x)\n",
    "print(2.3 in x)\n",
    "print(5.12 in x)"
   ]
  },
  {
   "cell_type": "markdown",
   "metadata": {},
   "source": [
    "## Some basic boolean practice"
   ]
  },
  {
   "cell_type": "markdown",
   "metadata": {},
   "source": [
    "Write a Python program which iterates the integers from 1 to 50. For multiples of three print \"Fizz\" instead of the number and for the multiples of five print \"Buzz\". For numbers which are multiples of both three and five print \"FizzBuzz\"."
   ]
  },
  {
   "cell_type": "code",
   "execution_count": null,
   "metadata": {},
   "outputs": [],
   "source": [
    "# code here:\n",
    "for fizzbuzz in range(50):\n",
    "    if fizzbuzz % 3 == 0 and fizzbuzz % 5 == 0:\n",
    "        print(\"fizzbuzz\")\n",
    "        continue\n",
    "    elif fizzbuzz % 3 == 0:\n",
    "        print(\"fizz\")\n",
    "        continue\n",
    "    elif fizzbuzz % 5 == 0:\n",
    "        print(\"buzz\")\n",
    "        continue\n",
    "    print(fizzbuzz)"
   ]
  },
  {
   "cell_type": "markdown",
   "metadata": {},
   "source": [
    "---"
   ]
  },
  {
   "cell_type": "markdown",
   "metadata": {},
   "source": [
    "<img style=\"float: left;\" src=\"lecture_01_a/Slide37.PNG\" width=\"100%\">"
   ]
  },
  {
   "cell_type": "code",
   "execution_count": null,
   "metadata": {},
   "outputs": [],
   "source": [
    "# Make a game: Guess the correct integer!\n",
    "# Task:\n",
    "#   0 Import necessary modules (numpy)\n",
    "#   1 Ask user for difficulty (determines number of guesses allowed) and print amount of guesses\n",
    "#   2 Set maximum number of guesses based on difficulty (easy == 25, normal == 15, and hard == 8)\n",
    "#   3 Generate random integer (first test your code with known number!!!)\n",
    "#   --- start loop ---\n",
    "#   4 Allow user to guess\n",
    "#   5 Check if guess is correct (if correct congratulate user and end loop)\n",
    "#   6 Provide if the integer is higher or lower (go back to 4)\n",
    "#   7 If no guesses left, tell the user that it is game over and provide the correct integer\n",
    "#   --- end loop ---\n",
    "\n",
    "### Step 0: code for importing module here (module that allows for generating a random number) ###\n",
    "\n",
    "\n",
    "print('Welcome to the game of Guess the Integer!')\n",
    "print('The goal: find the random integer between 1 and 100')\n",
    "### Step 1: code for user input (difficulty level) here (what type of variable do we except?) ###\n",
    "\n",
    "### Step 2: code for user setting max_guess (based on difficulty level) here ###\n",
    "print('Max. number of guesses: %d' % max_guess)\n",
    "\n",
    "### Step 3: code for random integer here (this is the integer that the user has to guess) ###\n",
    "number = ???\n",
    "\n",
    "found_integer = False\n",
    "use_for_loop = False\n",
    "nr_guess = 1\n",
    "\n",
    "#   --- start loop ---\n",
    "if not use_for_loop:\n",
    "    ### WHILE LOOP IMPLEMENTATION ###\n",
    "    \n",
    "    ### Step 4: code for user user guess input (what type of variable do we except?) ###\n",
    "    \n",
    "    ### Step 5: code for check if guess is correct (if so, how do we exit the loop?) ###\n",
    "    \n",
    "    ### Step 6: code for providing if integer is higher or lower (if guess is wrong) ###\n",
    "\n",
    "else:\n",
    "    ### FOR LOOP IMPLEMENTATION ###\n",
    "    \n",
    "    ### Step 4: code for user user guess input (what type of variable do we except?) ###\n",
    "    \n",
    "    ### Step 5: code for check if guess is correct (if so, how do we exit the loop?) ###\n",
    "    \n",
    "    ### Step 6: code for providing if integer is higher or lower (if guess is wrong) ###\n",
    "            \n",
    "#   --- end loop ---\n",
    "\n",
    "### Step 7: code here if nr_guess > max_guess and tell the user that it is game over and provide the correct integer ###\n"
   ]
  },
  {
   "cell_type": "markdown",
   "metadata": {},
   "source": [
    "## <font color='red'>References (most important!)</font>\n",
    "### Python online tutorials and exercises\n",
    "* https://python.swaroopch.com/\n",
    "* https://www.youtube.com/watch?v=sfhhk8m4mcQ&list=PLLAZ4kZ9dFpMMs5lskzBApYXn0bl7emsW \n",
    "* https://www.python-course.eu/python3_course.php \n",
    "* https://www.python-course.eu/numpy.php \n",
    "* http://cs231n.github.io/python-numpy-tutorial/ \n",
    "\n",
    "### Programming for Computations – Python (note: in Python 2!)\n",
    "* https://link.springer.com/content/pdf/10.1007%2F978-3-319-32428-9.pdf\n",
    "\n",
    "### Foundations of Python Programming\n",
    "* https://fopp.umsi.education/runestone/static/fopp/index.html\n",
    "\n"
   ]
  },
  {
   "cell_type": "markdown",
   "metadata": {},
   "source": [
    "---"
   ]
  },
  {
   "cell_type": "markdown",
   "metadata": {},
   "source": [
    "## <font color='green'>References (optional resources)</font>\n",
    "### Python Basics\n",
    "* https://pythonbasics.org/ \n",
    "\n",
    "### Dive Into Python 3 (book by Mark Pilgrim)\n",
    "* http://diveintopython3.problemsolving.io/\n",
    "\n",
    "### A Gentler Introduction to Programming\n",
    "* https://medium.freecodecamp.org/a-gentler-introduction-to-programming-1f57383a1b2c \n",
    "* http://www.greenteapress.com/thinkpython/thinkCSpy/html/chap01.html \n",
    "\n",
    "### Algorithms Basics\n",
    "* https://www.tutorialspoint.com/data_structures_algorithms/algorithms_basics.htm \n",
    "* https://fiftyexamples.readthedocs.io/en/latest/algorithms.html\n",
    "\n",
    "### Cormen et al., 2010: Introduction to Algorithms:\n",
    "* https://mcdtu.files.wordpress.com/2017/03/introduction-to-algorithms-3rd-edition-sep-2010.pdf \n",
    "* https://hplgit.github.io/prog4comp/doc/pub/p4c_Matlab.pdf \n",
    "\n",
    "### 50 Years of Data Science\n",
    "* http://courses.csail.mit.edu/18.337/2015/docs/50YearsDataScience.pdf\n",
    "\n",
    "### Mathematical resources\n",
    "* https://ocw.mit.edu/courses/mathematics/18-06-linear-algebra-spring-2010/video-lectures/\n",
    "* https://ocw.mit.edu/courses/mathematics/18-01-single-variable-calculus-fall-2006/video-lectures/"
   ]
  },
  {
   "cell_type": "markdown",
   "metadata": {},
   "source": [
    "<img style=\"float: left;\" src=\"lecture_01_a/Slide41.PNG\" width=\"100%\">"
   ]
  }
 ],
 "metadata": {
  "kernelspec": {
   "display_name": "Python 3 (ipykernel)",
   "language": "python",
   "name": "python3"
  },
  "language_info": {
   "codemirror_mode": {
    "name": "ipython",
    "version": 3
   },
   "file_extension": ".py",
   "mimetype": "text/x-python",
   "name": "python",
   "nbconvert_exporter": "python",
   "pygments_lexer": "ipython3",
   "version": "3.9.12"
  }
 },
 "nbformat": 4,
 "nbformat_minor": 2
}
