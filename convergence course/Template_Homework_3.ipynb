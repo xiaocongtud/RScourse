{
 "cells": [
  {
   "cell_type": "markdown",
   "metadata": {},
   "source": [
    "## Numerical Integration (see also lecture slides for equations and figures)"
   ]
  },
  {
   "cell_type": "code",
   "execution_count": null,
   "metadata": {},
   "outputs": [],
   "source": [
    "# Note this is a Python code block. Write the code for the numerical evaluation of the integral here\n",
    "import numpy as np\n",
    "\n",
    "\n",
    "def my_func(x):\n",
    "    return np.sqrt(1 + x**3)\n",
    "\n",
    "num_p = 5\n",
    "int_low = -1\n",
    "int_high = 1\n",
    "int_len = int_high - int_low\n",
    "dx = int_len / num_p\n",
    "\n",
    "int_left = 0  # should contain the value of the Left Riemann integral (sum)\n",
    "int_right = 0  # should contain the value of the Left Riemann integral (sum)\n",
    "int_mid = 0  # should contain the value of the Midpoint rule integral\n",
    "int_trap = 0  # should contain the value of the Trapezoidal integral\n",
    "\n",
    "a = int_low\n",
    "\n",
    "for ii in range(num_p):\n",
    "    \n",
    "### write your code here ###\n",
    "    \n",
    "print(\"Integral with Left Riemann sum:\\t\\t\", int_left)\n",
    "print(\"Integral with Right Riemann sum:\\t\", int_right)\n",
    "print(\"Integral with Midpoint rule:\\t\\t\", int_mid)\n",
    "print(\"Integral with Trapezoidal:\\t\\t\", int_trap)"
   ]
  },
  {
   "cell_type": "code",
   "execution_count": null,
   "metadata": {},
   "outputs": [],
   "source": [
    "# Exercise here for students to practice previous lecture topics:\n",
    "import numpy as np\n",
    "from math import cos, sin, pi\n",
    "\n",
    "\n",
    "# Actual function:\n",
    "# f(x) = x^4 + x * sin(x)\n",
    "\n",
    "# Actual integral: \n",
    "# ???\n",
    "# from 0 to 2*pi\n",
    "\n",
    "# Numerical Integration:\n",
    "def my_func(x):\n",
    "    return (x**4 + x * sin(x))\n",
    "\n",
    "def my_integral(x):\n",
    "    return ( ??? )\n",
    "\n",
    "# Some constant data:\n",
    "num_points = 10\n",
    "int_left = 0\n",
    "int_right = pi\n",
    "dx = (int_right - int_left) / num_points\n",
    "\n",
    "# Use left Riemann Sum and Trapezoidal Rule:\n",
    "left_riemann = 0\n",
    "trapezodial = 0\n",
    "\n",
    "a = int_left\n",
    "\n",
    "for ii in range(num_points):\n",
    "    ### your code here ###\n",
    "    \n",
    "# Compute the analytical integral:\n",
    "ana_integral = ???\n",
    "\n",
    "# Print error:\n",
    "print('Actual answer: ', ana_integral)\n",
    "print('Left Riemann: ', left_riemann)\n",
    "print('Trapezoidal: ', trapezodial)\n",
    "print('Error of Left Riemann:', np.abs(left_riemann - ana_integral))\n",
    "print('Error of Trapezoidal:', np.abs(trapezodial - ana_integral))    "
   ]
  },
  {
   "cell_type": "markdown",
   "metadata": {},
   "source": [
    "## Ordinary Differential Equations (see also slide in lecture 3!)\n",
    "\n",
    "In this section we will go through an example of a ODE. An ODE is a special case of the PDE, particularly it's a Differential Equation with only one indepdent variable. In constrast, a PDE is a Differential Equation with more than one indepdent variables. \n",
    "\n",
    "The example we will go through is the following:\n",
    "* $ y' = -100(y - cos(t)) - sin(t) = f(t, y(t)) $, with initial conditions: $ y(0) = 0 $.\n",
    "\n",
    "This equation has the analytical solution: \n",
    "* $ y(t) = cos(t) -e^{-100t} $\n",
    "\n",
    "**!!!** Convince yourself that this is true by filling the differential equation in (take the derivative and substitute back in the equation, also check for the initial condition) **!!!**\n",
    "\n",
    "**In some cases the analytical solution is impossible to derrive and we have to use numerical methods to find the solution of our function over time** (or e.g. space-time in case of some PDEs).\n"
   ]
  },
  {
   "cell_type": "markdown",
   "metadata": {},
   "source": [
    "### Explicit and Implicit strategies for solving the ODE in time:\n",
    "First, let us realize that the analytical solution at an point in time, $ t $, can be found by integrating the above equation in time, which results in the following integral equation: \n",
    "\n",
    "* $ y(t) = y(t_0) + \\int_{t_0}^{t}{f(\\tau, y(\\tau))d\\tau} $\n",
    "\n",
    "which in return can be written as:\n",
    "\n",
    "* $ y(t_{n+1}) = y(t_n) + \\int_{t_n}^{t_{n+1}}{f(\\tau, y(\\tau))d\\tau} $\n",
    "\n",
    "Our main objective is to approximate the integral. We will explain later in the lecture how to do numerical integration, but let's say that we use the **left-hand rectangle** rule which will give us the following approximation:\n",
    "\n",
    "* $ y(t_{n+1}) = y(t_n) + \\Delta t f(t_{n}, y(t_{n})) $\n",
    "\n",
    "This approximation is also known as the Forward Euler (or Explicit Euler) method.\n",
    "\n",
    "We could also use the **right-hand rectangle** rule which would have given us the following approximation:\n",
    "\n",
    "* $ y(t_{n+1}) = y(t_n) + \\Delta t f(t_{n+1}, y(t_{n+1})) $\n",
    "\n",
    "This approximation is also known as the Backward Euler (or Implicit Euler) method.\n",
    "\n",
    "**NOTE:** The main difference between the two is that in the Explicit method, the right-hand side (rhs) of the equation, $ f(t,y(t)) $ , is evaluated at $ t_n $ . While in the Implicit method, the rhs of the equation is evaluated at $ t_n+t $ .\n",
    "\n",
    "Please also note that we could have also derrived the Forward Euler method by using the Taylor series expansion of the function $ y(t + \\Delta t) $ in the neighbourhood of $ t_n $:\n",
    "\n",
    "$ y(t_n + \\Delta t) = y(t_n) + \\Delta t \\frac{dy(t_n)}{dt_n} + \\mathcal{O}(\\Delta t^2) = y(t_n) + \\Delta t f(t_{n}, y(t_{n})) + \\mathcal{O}(\\Delta t^2) $\n",
    "\n",
    "Since we know from the original equation that $ \\frac{dy}{dt} = f(t, y(t)) $. \n",
    "\n",
    "Another way is to approximate the derivative and evaluating the rhs at either $ t_n \\$ or \\$ t_{n+1} $: \n",
    "\n",
    "$ \\frac{dy}{dt} \\approx \\frac{y(t_{n+1}) - y(t_{n})}{\\Delta t} = f(t_{n}, y(t_{n})) $ (Forward Euler)\n",
    "\n",
    "$ \\frac{dy}{dt} \\approx \\frac{y(t_{n+1}) - y(t_{n})}{\\Delta t} = f(t_{n+1}, y(t_{n+1})) $ (Backward Euler)\n",
    "\n",
    "### Solving the actual problem:"
   ]
  },
  {
   "cell_type": "code",
   "execution_count": null,
   "metadata": {},
   "outputs": [],
   "source": [
    "\"\"\"\n",
    "Problem statement:\n",
    "y' = -100(y - cos(t)) - sin(t)\n",
    "y(0) = 0\n",
    "\n",
    "Solve with Forward and Backward Euler schemes, stepsize of 0.2 for a total time of 4. Plot both solutions on the\n",
    "interval [0, 4], on top of the exact solution which is given by:\n",
    "y(t) = cos(t) - e^(-100t)\n",
    "\n",
    "Forward Euler: y_n+1 = y_n + dt*f(t_n, y_n)\n",
    "Backward Euler: y_n+1 = y_n + dt*f(t_n+1, y_n+1)\n",
    "\"\"\"\n",
    "import numpy as np\n",
    "from math import e, cos, sin, ceil\n",
    "import matplotlib.pyplot as plt\n",
    "\n",
    "\n",
    "# Define parameters:\n",
    "dt = 0.02\n",
    "tot_time = 4  \n",
    "num_steps = ceil(tot_time / dt)\n",
    "exact_steps = min(50000, 100 * num_steps)\n",
    "time_vec = np.linspace(0, tot_time, num_steps+1)\n",
    "time_vec_exact = np.linspace(0, tot_time, exact_steps+1)\n",
    "\n",
    "# Allocate mememory:\n",
    "sol_forward = np.zeros((num_steps+1,))\n",
    "sol_backard = np.zeros((num_steps+1,))\n",
    "\n",
    "# Perform time-integration\n",
    "for ii in range(1, num_steps+1):\n",
    "    # Forward Euler:\n",
    "    sol_forward[ii] = ???\n",
    "\n",
    "    # Backward Euler:\n",
    "    sol_backard[ii] = ???\n",
    "\n",
    "# Calculate exact solution:\n",
    "sol_exact = np.zeros((exact_steps+1,))\n",
    "for ii in range(exact_steps+1):\n",
    "    sol_exact[ii] = ???\n",
    "\n",
    "# plot with various axes scales\n",
    "plt.figure(num=None, figsize=(15, 5), dpi=80, facecolor='w', edgecolor='k')\n",
    "\n",
    "font = {'family': 'serif',\n",
    "        'color':  'darkred',\n",
    "        'weight': 'normal',\n",
    "        'size': 16,\n",
    "        }\n",
    "\n",
    "# Forward Euler\n",
    "plt.subplot(121)\n",
    "plt.plot(time_vec, sol_forward, 'r', time_vec_exact, sol_exact, 'g--')\n",
    "plt.title('Forward Euler dt = ' + str(dt), fontdict=font)\n",
    "plt.xlabel('t', fontdict=font)\n",
    "plt.ylabel('y', fontdict=font)\n",
    "plt.gca().legend(('forward','analytic'))\n",
    "\n",
    "plt.subplot(122)\n",
    "plt.plot(time_vec, sol_backard, 'r', time_vec_exact, sol_exact, 'g--')\n",
    "plt.title('Backward Euler dt = ' + str(dt), fontdict=font)\n",
    "plt.xlabel('t', fontdict=font)\n",
    "plt.ylabel('y', fontdict=font)\n",
    "plt.gca().legend(('backward','analytic'))\n",
    "plt.show()"
   ]
  },
  {
   "cell_type": "markdown",
   "metadata": {},
   "source": [
    "## Python exercises (when stuck, Googling read/write file Python might help you :)"
   ]
  },
  {
   "cell_type": "markdown",
   "metadata": {},
   "source": [
    "### Exercise 1: Write the example experiment data to a file. Format should be three columns (sample_num, porosity, rock_type_label) starting each column with a header (Sample Number, Porosity, Rock Type). See also comments in the code-block below. Note: make sure to \"preserve\" the data type while writing (integer, float, string)."
   ]
  },
  {
   "cell_type": "code",
   "execution_count": 3,
   "metadata": {},
   "outputs": [],
   "source": [
    "# Data from experiments:\n",
    "headers = ['Sample number', 'Porosity', 'Rock Type']\n",
    "rock_type_label = ['sst', 'sst', 'lst', 'sst', 'lst', 'lst', 'lst', 'sst']  # sst == sandstone, lst == limestone\n",
    "sample_num = [1, 2, 3, 4, 5, 6, 7, 8]\n",
    "porosity = [0.35, 0.28, 0.1, 0.30, 0.40, 0.25, 0.12, 0.27]\n",
    "\n",
    "# Write data, in 3 columns, to a file with a header for each column:\n",
    "# The first two lines of your file should look like this:\n",
    "# Sample number    Porosity    Rock Type\n",
    "# 1                0.35        sst\n",
    "# ...\n",
    "\n",
    "### your code here ###"
   ]
  },
  {
   "cell_type": "markdown",
   "metadata": {},
   "source": [
    "### Exercise 2: Read the data, that you wrote to a file in the previous exercise, back into Python. Note: make sure you store sample_num_read as an integer, porosity_read as a floating point number, and rock_type_label_read as a string. Also make to sure to read the header and finally print to result to screen (header + data in 3 columns)."
   ]
  },
  {
   "cell_type": "code",
   "execution_count": null,
   "metadata": {},
   "outputs": [],
   "source": [
    "### your code here ###\n",
    "sample_num_read = ???\n",
    "porosity_read = ???\n",
    "rock_type_label_read = ???"
   ]
  },
  {
   "cell_type": "markdown",
   "metadata": {},
   "source": [
    "### Exercise 3: Write sample_num and porosity to two different binary numpy files (again, making sure you preserve the original data type!). Then read this binary files back into python (as sample_num_bin and porosity_bin) and compare the differences (sample_num and sample_num_bin might differ, why is that? how to fix it?)."
   ]
  },
  {
   "cell_type": "code",
   "execution_count": null,
   "metadata": {},
   "outputs": [],
   "source": [
    "### your code here ###\n",
    "sample_num_bin = ???\n",
    "porosity_bin = ???"
   ]
  }
 ],
 "metadata": {
  "kernelspec": {
   "display_name": "Python 3",
   "language": "python",
   "name": "python3"
  },
  "language_info": {
   "codemirror_mode": {
    "name": "ipython",
    "version": 3
   },
   "file_extension": ".py",
   "mimetype": "text/x-python",
   "name": "python",
   "nbconvert_exporter": "python",
   "pygments_lexer": "ipython3",
   "version": "3.7.6"
  }
 },
 "nbformat": 4,
 "nbformat_minor": 4
}
