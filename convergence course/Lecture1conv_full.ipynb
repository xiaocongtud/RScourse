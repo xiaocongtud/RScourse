{
 "cells": [
  {
   "cell_type": "markdown",
   "metadata": {},
   "source": [
    "# Introduction to Programming in Python, Mathematics, Statistics, and Modeling\n",
    "## Overview full course\n",
    "This course is part of the Grand Energy Challenge. Major components of this course are:\n",
    "* Programming in Python\n",
    "* Linear Algebra\n",
    "* Numerical methods\n",
    "* Solving simple ODE's\n",
    "* Statistics\n",
    "\n",
    "This course consists of X number of lectures. In order to succesfully complete this course it is mandatory to perform self-study on the lecture materials and online exercises. At the end of the quarter there will be a Y hour exam to determine if you pass the course or not. **Denis check if this is applicable, we can include one or two questions on a major aspect of previous lecture/self study as a small quiz**: <font color = red>Bonus points can be scored by participating in the in-class exercises and quizes held at the start of each lecture.</font>"
   ]
  },
  {
   "cell_type": "markdown",
   "metadata": {},
   "source": [
    "---"
   ]
  },
  {
   "cell_type": "markdown",
   "metadata": {},
   "source": [
    "# Brief introduction to using Jupyter Notebook\n",
    "Every notebook is subdivided into sections, denoted as **cells**. The two types of cells that you will encounter during this course are:\n",
    "* Markdown cells --> These cells can interpret Markdown Language (Lightweight Markup language written in plain text) as well as HTML Language\n",
    "* Code cells --> These cells are interpreted by Jupyter using a kernel, typically set to Python 3 \n",
    "\n",
    "You can edit (enter **Edit Mode**) each and every cell by simply selecting the cell you want to edit and pressing **enter** or double clicking the (left mouse button) on the cell you wish to modify. Once you are ready simple press **ctrl + enter** to run the cell (the Markdown or Code cell will be interpreter and the result will be displayed) \n",
    "\n",
    "To better understand the User Interface (UI) of Jupyter Notebook, please go to the **Help** tab in the top menu and select **User Interface Tour**. \n",
    "\n",
    "There are two main operating modes in Jupyter Notebook:\n",
    "* **Command Mode**, indicated by the <font color = blue>Blue</font> color on the left side of the cell (have simply selected the cell)\n",
    "* **Edit Mode**, indicated by the <font color = green>Green</font> color on the left side of the cell (are actually editing currently selected cell)\n",
    "\n",
    "Here is a list of commands that you will frequently use when creating your own Jupyter Notebook:\n",
    "### Command mode\n",
    "* **A**: insert cell **a**bove\n",
    "* **B**: insert cell **b**elow\n",
    "* **X**: cut selected cells\n",
    "* **C**: copy selected cells\n",
    "* **Shift + V**: paste cells above\n",
    "* **V**: paste cells below\n",
    "* **Ctrl  + S**: Save and Checkpoint\n",
    "* **Y**: change cell to code\n",
    "* **M**: change cell to **m**arkdown\n",
    "* **Shift + Enter**: run cell, select below\n",
    "* **Ctrl + Enter**: run selected cells\n",
    "* **Enter**: enter edit mode\n",
    "\n",
    "### Edit mode\n",
    "* **Tab**: code completion or indent\n",
    "* **Ctrl + ]**: indent \n",
    "* **Ctrl + [**: dedent\n",
    "* **Ctrl + /**: comment \n",
    "* **Ctrl + z**: undo\n",
    "* **Ctrl + Home**: go to cell start\n",
    "* Same commands (as in Command mode) work if you want to run cell! "
   ]
  },
  {
   "cell_type": "markdown",
   "metadata": {},
   "source": [
    "---"
   ]
  },
  {
   "cell_type": "markdown",
   "metadata": {},
   "source": [
    "## First lecture: Introduction to Programming in Python"
   ]
  },
  {
   "cell_type": "markdown",
   "metadata": {},
   "source": [
    "<img style=\"float: left;\" src=\"lecture_01_a/Slide2.PNG\" width=\"100%\">"
   ]
  },
  {
   "cell_type": "markdown",
   "metadata": {},
   "source": [
    "<img style=\"float: left;\" src=\"lecture_01_a/Slide4.PNG\" width=\"100%\">"
   ]
  },
  {
   "cell_type": "markdown",
   "metadata": {},
   "source": [
    "<img style=\"float: left;\" src=\"lecture_01_a/Slide5.PNG\" width=\"100%\">"
   ]
  },
  {
   "cell_type": "markdown",
   "metadata": {},
   "source": [
    "<img style=\"float: left;\" src=\"lecture_01_a/Slide6.PNG\" width=\"100%\">"
   ]
  },
  {
   "cell_type": "markdown",
   "metadata": {},
   "source": [
    "<img style=\"float: left;\" src=\"lecture_01_a/Slide7.PNG\" width=\"100%\">"
   ]
  },
  {
   "cell_type": "markdown",
   "metadata": {},
   "source": [
    "<img style=\"float: left;\" src=\"lecture_01_a/Slide8.PNG\" width=\"100%\">"
   ]
  },
  {
   "cell_type": "markdown",
   "metadata": {},
   "source": [
    "<img style=\"float: left;\" src=\"lecture_01_a/Slide9.PNG\" width=\"100%\">"
   ]
  },
  {
   "cell_type": "markdown",
   "metadata": {},
   "source": [
    "<img style=\"float: left;\" src=\"lecture_01_a/Slide10.PNG\" width=\"100%\">"
   ]
  },
  {
   "cell_type": "markdown",
   "metadata": {},
   "source": [
    "<img style=\"float: left;\" src=\"lecture_01_a/Slide42.PNG\" width=\"100%\">"
   ]
  },
  {
   "cell_type": "markdown",
   "metadata": {},
   "source": [
    "<img style=\"float: left;\" src=\"lecture_01_a/Slide43.PNG\" width=\"100%\">"
   ]
  },
  {
   "cell_type": "markdown",
   "metadata": {},
   "source": [
    "<img style=\"float: left;\" src=\"lecture_01_a/Slide44.PNG\" width=\"100%\">"
   ]
  },
  {
   "cell_type": "markdown",
   "metadata": {},
   "source": [
    "---"
   ]
  },
  {
   "cell_type": "markdown",
   "metadata": {},
   "source": [
    "## Example, fix the following code"
   ]
  },
  {
   "cell_type": "code",
   "execution_count": null,
   "metadata": {},
   "outputs": [],
   "source": [
    "# Some practice (fix the following code): \n",
    "my_first_variable = 1"
   ]
  },
  {
   "cell_type": "code",
   "execution_count": null,
   "metadata": {},
   "outputs": [],
   "source": [
    "# Some practice (fix the following code): \n",
    "my_variable = 2"
   ]
  },
  {
   "cell_type": "code",
   "execution_count": null,
   "metadata": {},
   "outputs": [],
   "source": [
    "# Some practice (fix the following code): \n",
    "def my_function(input_variable):\n",
    "    return input_variable**2"
   ]
  },
  {
   "cell_type": "code",
   "execution_count": null,
   "metadata": {},
   "outputs": [],
   "source": [
    "# Some practice (fix the following code): \n",
    "square = my_function(2)"
   ]
  },
  {
   "cell_type": "code",
   "execution_count": null,
   "metadata": {},
   "outputs": [],
   "source": [
    "# The first program: define two variables equal to 3 and 5, output sum of their squares and square of their sum  \n",
    "var1 = 3\n",
    "var2 = 5\n",
    "\n",
    "def my_function(input_variable):\n",
    "    return input_variable**2\n",
    "\n",
    "sum_of_squares = my_function(var1) + my_function(var2)\n",
    "print(sum_of_squares)\n",
    "\n",
    "square_of_sum = my_function(var1 + var2)\n",
    "print(square_of_sum)"
   ]
  },
  {
   "cell_type": "markdown",
   "metadata": {},
   "source": [
    "---"
   ]
  },
  {
   "cell_type": "markdown",
   "metadata": {},
   "source": [
    "<img style=\"float: left;\" src=\"lecture_01_a/Slide11.PNG\" width=\"100%\">"
   ]
  },
  {
   "cell_type": "markdown",
   "metadata": {},
   "source": [
    "## Example: Play around with basic coding flows"
   ]
  },
  {
   "cell_type": "code",
   "execution_count": null,
   "metadata": {},
   "outputs": [],
   "source": [
    "# Sequential execution of code:\n",
    "year = 2019\n",
    "print(\"Hello World\")\n",
    "print(\"It's the year\", year)\n"
   ]
  },
  {
   "cell_type": "code",
   "execution_count": null,
   "metadata": {},
   "outputs": [],
   "source": [
    "# Conditional/Branching:\n",
    "is_my_birthday = False\n",
    "name = \"John Doe\"\n",
    "\n",
    "if is_my_birthday:\n",
    "    print(\"Congratualitions \", name, \" with your birthday!\")\n",
    "else:\n",
    "    print(\"Greetings \", name)"
   ]
  },
  {
   "cell_type": "code",
   "execution_count": null,
   "metadata": {},
   "outputs": [],
   "source": [
    "# Iteration/Repetition/Loops:\n",
    "iter_count = 0\n",
    "max_iter = 5\n",
    "\n",
    "while (iter_count < max_iter):\n",
    "    print(\"Current iteration: \", iter_count)\n",
    "    iter_count += 1"
   ]
  },
  {
   "cell_type": "code",
   "execution_count": null,
   "metadata": {},
   "outputs": [],
   "source": [
    "# Combination of sequential, conditional, and iterations:\n",
    "my_birthday = 12  # note this is actually the 13th!\n",
    "days_week = ['Monday', 'Tuesday', 'Wednesday', 'Thursday', 'Friday', 'Saturday', 'Sunday']\n",
    "days_in_this_month = 30\n",
    "day_month_starts = 1 # note, this is Thursday, not Wednesday\n",
    "\n",
    "for day in range(days_in_this_month):\n",
    "    if (day == my_birthday):\n",
    "        print(\"Congrats with your birthday!\")\n",
    "        \n",
    "        # Calculate what day it is:\n",
    "        remainder = (day + day_month_starts) % len(days_week)\n",
    "        print(\"Enjoy your \", days_week[remainder])\n",
    "        break\n",
    "        \n",
    "    else:\n",
    "        print(my_birthday - day, \" days left till your birthday!\")"
   ]
  },
  {
   "cell_type": "markdown",
   "metadata": {},
   "source": [
    "<img style=\"float: left;\" src=\"lecture_01_b/Slide9.PNG\" width=\"100%\">"
   ]
  },
  {
   "cell_type": "markdown",
   "metadata": {},
   "source": [
    "<img style=\"float: left;\" src=\"lecture_01_b/Slide10.PNG\" width=\"100%\">"
   ]
  },
  {
   "cell_type": "markdown",
   "metadata": {},
   "source": [
    "---"
   ]
  },
  {
   "cell_type": "markdown",
   "metadata": {},
   "source": [
    "<img style=\"float: left;\" src=\"lecture_01_a/Slide12.PNG\" width=\"100%\">"
   ]
  },
  {
   "cell_type": "markdown",
   "metadata": {},
   "source": [
    "<img style=\"float: left;\" src=\"lecture_01_a/Slide13.PNG\" width=\"100%\">"
   ]
  },
  {
   "cell_type": "markdown",
   "metadata": {},
   "source": [
    "<img style=\"float: left;\" src=\"lecture_01_a/Slide14.PNG\" width=\"100%\">"
   ]
  },
  {
   "cell_type": "markdown",
   "metadata": {},
   "source": [
    "<img style=\"float: left;\" src=\"lecture_01_a/Slide15.PNG\" width=\"100%\">"
   ]
  },
  {
   "cell_type": "code",
   "execution_count": null,
   "metadata": {},
   "outputs": [],
   "source": [
    "# We are going to implement here the algorithm outlined above using the flowchart as our guide! \n",
    "\n",
    "list_of_numbers = [10, 20, 30, 50, 1, 2, 99, 102, 4, 5, 105, 120, 5, 3, 1, 1, 10]\n",
    "\n",
    "max_L = 0\n",
    "count = 0\n",
    "\n",
    "size_list = len(list_of_numbers)\n",
    "\n",
    "while (count < size_list):\n",
    "    x = list_of_numbers[count]\n",
    "    if x > max_L:\n",
    "        max_L = x\n",
    "    \n",
    "    count += 1\n",
    "\n",
    "print(\"The largest number in the list is: \", max_L)"
   ]
  },
  {
   "cell_type": "code",
   "execution_count": null,
   "metadata": {},
   "outputs": [],
   "source": [
    "# Check which list contains the largest number:\n",
    "list_A = [10, 20, 30, 50, 1, 2, 99, 102, 4, 5, 105, 120, 5, 3, 1, 1, 10]\n",
    "list_B = [10, 20, 30, 50, 1, 2, 99, 102, 4, 5, 105, 119, 5, 3, 1, 1, 10]\n",
    "list_C = [10, 20, 30, 50, 1, 2, 99, 102, 4, 5, 105, 121, 5, 3, 1, 1, 10]\n",
    "\n",
    "max_L = 0\n",
    "count = 0\n",
    "\n",
    "while (count < len(list_A)):\n",
    "    x = list_A[count]\n",
    "    \n",
    "    if x > max_L:\n",
    "        max_L = x\n",
    "    \n",
    "    count += 1\n",
    "\n",
    "# Store solution for list A:\n",
    "max_L_A = max_L\n",
    "\n",
    "# Repeat procedure for list B:\n",
    "max_L = 0\n",
    "count = 0\n",
    "\n",
    "while (count < len(list_B)):\n",
    "    x = list_B[count]\n",
    "    \n",
    "    if x > max_L:\n",
    "        max_L = x\n",
    "    \n",
    "    count += 1\n",
    "\n",
    "# Store solution for list B:\n",
    "max_L_B = max_L\n",
    "\n",
    "# Repeat procedure for list C:\n",
    "max_L = 0\n",
    "count = 0\n",
    "\n",
    "while (count < len(list_C)):\n",
    "    x = list_C[count]\n",
    "    \n",
    "    if x > max_L:\n",
    "        max_L = x\n",
    "    \n",
    "    count += 1\n",
    "\n",
    "# Store solution for list c:\n",
    "max_L_C = max_L\n",
    "\n",
    "# Print which list contains largest number and what number it is:\n",
    "max_list = [max_L_A, max_L_B, max_L_C]\n",
    "list_name = ['A', 'B', 'C']\n",
    "\n",
    "# Repeat procedure for combined list:\n",
    "max_L = 0\n",
    "count = 0\n",
    "pos = 0\n",
    "\n",
    "while (count < len(max_list)):\n",
    "    x = max_list[count]\n",
    "    \n",
    "    if x > max_L:\n",
    "        max_L = x\n",
    "        pos = count\n",
    "    \n",
    "    count += 1\n",
    "\n",
    "print(\"List :\", list_name[pos], \" has the biggest number, particularly: \", max_L)"
   ]
  },
  {
   "cell_type": "markdown",
   "metadata": {},
   "source": [
    "## How to do this smarter? "
   ]
  },
  {
   "cell_type": "markdown",
   "metadata": {},
   "source": [
    "<img style=\"float: left;\" src=\"lecture_01_a/Slide16.PNG\" width=\"100%\">"
   ]
  },
  {
   "cell_type": "code",
   "execution_count": 2,
   "metadata": {},
   "outputs": [
    {
     "ename": "NameError",
     "evalue": "name 'max_L' is not defined",
     "output_type": "error",
     "traceback": [
      "\u001b[1;31m---------------------------------------------------------------------------\u001b[0m",
      "\u001b[1;31mNameError\u001b[0m                                 Traceback (most recent call last)",
      "\u001b[1;32m<ipython-input-2-e0e35a39e44a>\u001b[0m in \u001b[0;36m<module>\u001b[1;34m\u001b[0m\n\u001b[0;32m     31\u001b[0m \u001b[0mpos\u001b[0m \u001b[1;33m=\u001b[0m \u001b[1;36m0\u001b[0m\u001b[1;33m\u001b[0m\u001b[1;33m\u001b[0m\u001b[0m\n\u001b[0;32m     32\u001b[0m \u001b[1;33m\u001b[0m\u001b[0m\n\u001b[1;32m---> 33\u001b[1;33m \u001b[0mprint\u001b[0m\u001b[1;33m(\u001b[0m\u001b[1;34m\"List :\"\u001b[0m\u001b[1;33m,\u001b[0m \u001b[0mlist_name\u001b[0m\u001b[1;33m[\u001b[0m\u001b[0mpos\u001b[0m\u001b[1;33m]\u001b[0m\u001b[1;33m,\u001b[0m \u001b[1;34m\" has the biggest number, particularly: \"\u001b[0m\u001b[1;33m,\u001b[0m \u001b[0mmax_L\u001b[0m\u001b[1;33m)\u001b[0m\u001b[1;33m\u001b[0m\u001b[1;33m\u001b[0m\u001b[0m\n\u001b[0m\u001b[0;32m     34\u001b[0m \u001b[1;31m# SAME CODE BUT MUCH MORE ORGANIZED AND REUSABLE!\u001b[0m\u001b[1;33m\u001b[0m\u001b[1;33m\u001b[0m\u001b[1;33m\u001b[0m\u001b[0m\n\u001b[0;32m     35\u001b[0m \u001b[1;33m\u001b[0m\u001b[0m\n",
      "\u001b[1;31mNameError\u001b[0m: name 'max_L' is not defined"
     ]
    }
   ],
   "source": [
    "# Create a function that calculates the maximum number in a list and the position:\n",
    "def calc_max(list_of_numbers):\n",
    "    max_L = 0\n",
    "    count = 0\n",
    "    pos = 0\n",
    "\n",
    "    while (count < len(list_of_numbers)):\n",
    "        x = list_of_numbers[count]\n",
    "        \n",
    "        if x > max_L:\n",
    "            max_L = x\n",
    "            pos = count\n",
    "\n",
    "        count += 1\n",
    "    \n",
    "    return (max_L, pos)\n",
    "\n",
    "\n",
    "# Same procedure as above: \n",
    "list_A = [10, 20, 30, 50, 1, 2, 99, 102, 4, 5, 105, 120, 5, 3, 1, 1, 10]\n",
    "list_B = [10, 20, 30, 50, 1, 2, 99, 102, 4, 5, 105, 119, 5, 3, 1, 1, 10]\n",
    "list_C = [10, 20, 30, 50, 1, 2, 99, 102, 4, 5, 105, 121, 5, 3, 1, 1, 10]\n",
    "\n",
    "(max_L_A, dummy) = calc_max(list_A)\n",
    "(max_L_B, dummy) = calc_max(list_B)\n",
    "(max_L_C, dummy) = calc_max(list_C)\n",
    "\n",
    "\n",
    "max_list = [max_L_A, max_L_B, max_L_C]\n",
    "list_name = ['A', 'B', 'C']\n",
    "\n",
    "print(\"List :\", list_name[pos], \" has the biggest number, particularly: \", max_L)\n",
    "# SAME CODE BUT MUCH MORE ORGANIZED AND REUSABLE!"
   ]
  },
  {
   "cell_type": "markdown",
   "metadata": {},
   "source": [
    "<img style=\"float: left;\" src=\"lecture_01_a/Slide17.PNG\" width=\"100%\">"
   ]
  },
  {
   "cell_type": "markdown",
   "metadata": {},
   "source": [
    "---"
   ]
  },
  {
   "cell_type": "markdown",
   "metadata": {},
   "source": [
    "<img style=\"float: left;\" src=\"lecture_01_a/Slide18.PNG\" width=\"100%\">"
   ]
  },
  {
   "cell_type": "markdown",
   "metadata": {},
   "source": [
    "<img style=\"float: left;\" src=\"lecture_01_a/Slide19.PNG\" width=\"100%\">"
   ]
  },
  {
   "cell_type": "markdown",
   "metadata": {},
   "source": [
    "<img style=\"float: left;\" src=\"lecture_01_a/Slide20.PNG\" width=\"100%\">"
   ]
  },
  {
   "cell_type": "markdown",
   "metadata": {},
   "source": [
    "<img style=\"float: left;\" src=\"lecture_01_a/Slide21.PNG\" width=\"100%\">"
   ]
  },
  {
   "cell_type": "markdown",
   "metadata": {},
   "source": [
    "<img style=\"float: left;\" src=\"lecture_01_a/Slide22.PNG\" width=\"100%\">"
   ]
  },
  {
   "cell_type": "markdown",
   "metadata": {},
   "source": [
    "<img style=\"float: left;\" src=\"lecture_01_a/Slide23.PNG\" width=\"100%\">"
   ]
  },
  {
   "cell_type": "markdown",
   "metadata": {},
   "source": [
    "<img style=\"float: left;\" src=\"lecture_01_a/Slide24.PNG\" width=\"100%\">"
   ]
  },
  {
   "cell_type": "markdown",
   "metadata": {},
   "source": [
    "<img style=\"float: left;\" src=\"lecture_01_a/Slide25.PNG\" width=\"100%\">"
   ]
  },
  {
   "cell_type": "markdown",
   "metadata": {},
   "source": [
    "<img style=\"float: left;\" src=\"lecture_01_a/Slide26.PNG\" width=\"100%\">"
   ]
  },
  {
   "cell_type": "markdown",
   "metadata": {},
   "source": [
    "<img style=\"float: left;\" src=\"lecture_01_a/Slide27.PNG\" width=\"100%\">"
   ]
  },
  {
   "cell_type": "markdown",
   "metadata": {},
   "source": [
    "<img style=\"float: left;\" src=\"lecture_01_a/Slide28.PNG\" width=\"100%\">"
   ]
  },
  {
   "cell_type": "markdown",
   "metadata": {},
   "source": [
    "<img style=\"float: left;\" src=\"lecture_01_a/Slide29.PNG\" width=\"100%\">"
   ]
  },
  {
   "cell_type": "markdown",
   "metadata": {},
   "source": [
    "<img style=\"float: left;\" src=\"lecture_01_a/Slide30.PNG\" width=\"100%\">"
   ]
  },
  {
   "cell_type": "markdown",
   "metadata": {},
   "source": [
    "<img style=\"float: left;\" src=\"lecture_01_a/Slide31.PNG\" width=\"100%\">"
   ]
  },
  {
   "cell_type": "markdown",
   "metadata": {},
   "source": [
    "<img style=\"float: left;\" src=\"lecture_01_a/Slide32.PNG\" width=\"100%\">"
   ]
  },
  {
   "cell_type": "markdown",
   "metadata": {},
   "source": [
    "## Useful sources to check if your question has already been solved by someone else :) \n",
    "(from slide)\n",
    "* https://stackoverflow.com/ \n",
    "* https://www.quora.com \n",
    "* https://www.reddit.com/r/Python/"
   ]
  },
  {
   "cell_type": "markdown",
   "metadata": {},
   "source": [
    "<img style=\"float: left;\" src=\"lecture_01_a/Slide33.PNG\" width=\"100%\">"
   ]
  },
  {
   "cell_type": "markdown",
   "metadata": {},
   "source": [
    "<img style=\"float: left;\" src=\"lecture_01_a/Slide34.PNG\" width=\"100%\">"
   ]
  },
  {
   "cell_type": "markdown",
   "metadata": {},
   "source": [
    "---"
   ]
  },
  {
   "cell_type": "markdown",
   "metadata": {},
   "source": [
    "## Already know MATLAB? \n",
    "Use these very easy “cheat sheets” to convert your MATLAB knowledge directly to Python :)\n",
    "* https://docs.scipy.org/doc/numpy/user/numpy-for-matlab-users.html\n",
    "* http://mathesaurus.sourceforge.net/matlab-numpy.html\n",
    "* https://cheatsheets.quantecon.org/\n",
    "* http://liacs.leidenuniv.nl/~csnaco/EA/misc/cheetsheet.pdf?v=27-03-2017"
   ]
  },
  {
   "cell_type": "markdown",
   "metadata": {},
   "source": [
    "## Some more programming and info to get started with Python:"
   ]
  },
  {
   "cell_type": "markdown",
   "metadata": {},
   "source": [
    "<img style=\"float: left;\" src=\"lecture_01_b/Slide2.PNG\" width=\"100%\">"
   ]
  },
  {
   "cell_type": "markdown",
   "metadata": {},
   "source": [
    "<img style=\"float: left;\" src=\"lecture_01_b/Slide4.PNG\" width=\"100%\">"
   ]
  },
  {
   "cell_type": "code",
   "execution_count": null,
   "metadata": {},
   "outputs": [],
   "source": [
    "# Adding two strings:\n",
    "str1 = 'hello'\n",
    "str2 = \"world\"\n",
    "msg = str1 + \" \" + str2\n",
    "print(msg)\n",
    "\n",
    "# What properties does a string class have:\n",
    "print(str.upper(msg))\n",
    "print(str.isnumeric(msg))\n",
    "print(str.isnumeric('1'))\n",
    "\n",
    "# Adding two integers:\n",
    "int1 = 3\n",
    "int2 = 7\n",
    "\n",
    "print(int1 + int2)  # is also of class int\n",
    "print(int1 * int2)  # is also of class int\n",
    "print(int1 / int2)  # is of class int if result is an integer, is of class floating is result is non-integer\n",
    "print(int(int1 / int2))  # e.g. in C++ you have to be more careful, devision of two integers always return an int!  \n",
    "print(int1 % int2)  # is also of class int\n",
    "\n",
    "# What if now one is a float?:\n",
    "int1 = 3.0\n",
    "int2 = 7\n",
    "\n",
    "print(int1 + int2)  # result is of class float\n",
    "print(int1 * int2)  # result is of class float\n",
    "\n",
    "# Some calculations with bool:\n",
    "bool1 = True\n",
    "bool2 = False\n",
    "\n",
    "print(bool1 * bool1)  \n",
    "print(bool1 * bool2)\n",
    "print(bool2 * bool2)\n",
    "\n",
    "# Please note:\n",
    "print(type(bool1 * bool1))\n",
    "\n",
    "# But even though it is an int, 1 is still True and 0 is Still False:\n",
    "if (bool1 * bool1):\n",
    "    print('This is true!')\n",
    "    \n",
    "if (not bool2 * bool2):\n",
    "    print('This is False!')"
   ]
  },
  {
   "cell_type": "markdown",
   "metadata": {},
   "source": [
    "<img style=\"float: left;\" src=\"lecture_01_b/Slide5.PNG\" width=\"100%\">"
   ]
  },
  {
   "cell_type": "code",
   "execution_count": null,
   "metadata": {},
   "outputs": [],
   "source": [
    "# Practice with list here:\n",
    "# Create empty list:\n",
    "my_geometries = []\n",
    "\n",
    "# Append (add to the end of the list) and item:\n",
    "my_geometries.append('triangle')\n",
    "\n",
    "# Append another item:\n",
    "my_geometries.append('quad')\n",
    "\n",
    "# Prepend an item (line, lower in dimensionality than triangle so preferable before triangle):\n",
    "my_geometries.insert(0, 'line')\n",
    "print(my_geometries)\n",
    "# or do:\n",
    "my_geometries.remove('line')\n",
    "my_geometries = ['line'] + my_geometries\n",
    "print(my_geometries)\n",
    "\n",
    "# Get length list:\n",
    "print(len(my_geometries))\n",
    "\n",
    "# Get first item in list (start counting from 0 to len(list) - 1)\n",
    "print(my_geometries[0])\n",
    "\n",
    "# Get last item in list (negative starts counting from end of list, so -1 is last item in the list, -2 is second last item, ...):\n",
    "print(my_geometries[-1])"
   ]
  },
  {
   "cell_type": "markdown",
   "metadata": {},
   "source": [
    "<img style=\"float: left;\" src=\"lecture_01_b/Slide6.PNG\" width=\"100%\">"
   ]
  },
  {
   "cell_type": "code",
   "execution_count": null,
   "metadata": {},
   "outputs": [],
   "source": [
    "# Practice with tuple here:\n",
    "def my_method(x, y):\n",
    "    subtract = x - y\n",
    "    multiply = x * y\n",
    "    divide = x / y\n",
    "    return (subtract, multiply, divide)\n",
    "\n",
    "x = 10\n",
    "y = 20\n",
    "output = my_method(x, y)\n",
    "\n",
    "# Print first item in tuple:\n",
    "print(x, '-', y, '= ', output[0])  # also for tuples you use square brackets for indexing!"
   ]
  },
  {
   "cell_type": "markdown",
   "metadata": {},
   "source": [
    "<img style=\"float: left;\" src=\"lecture_01_b/Slide7.PNG\" width=\"100%\">"
   ]
  },
  {
   "cell_type": "code",
   "execution_count": null,
   "metadata": {},
   "outputs": [],
   "source": [
    "# Create three dictionaries:\n",
    "dic1 = {'key1': 'Hello World', 'key2': True}\n",
    "dic2 = {'key3': 1e-2, 'key4': 'Bye World'}\n",
    "dic3 = {'key5': False, 'key6': 100}\n",
    "\n",
    "# Create iterable over all existing dictionaries:\n",
    "dict_iterable = (dic1, dic2, dic3)\n",
    "\n",
    "# Create empty new dictionary:\n",
    "dic4 = {}\n",
    "\n",
    "# Iterate over all dictionaries:\n",
    "for d in dict_iterable:\n",
    "    # Update dictionary (add key + value pair(s))\n",
    "    dic4.update(d)\n",
    "\n",
    "print(dic4)\n",
    "print(dic4['key1'])"
   ]
  },
  {
   "cell_type": "markdown",
   "metadata": {},
   "source": [
    "<img style=\"float: left;\" src=\"lecture_01_b/Slide8.PNG\" width=\"100%\">"
   ]
  },
  {
   "cell_type": "code",
   "execution_count": null,
   "metadata": {},
   "outputs": [],
   "source": [
    "# Create a new set\n",
    "num_set = set([0, 1, 2, 3, 4, 5])\n",
    "\n",
    "# Discard number 4\n",
    "num_set.discard(4)\n",
    "print(num_set)\n",
    "\n",
    "# Find intersection of these two sets:\n",
    "the_netherlands = {'Apeldoorn', 'Delft', 'Amsterdam'}\n",
    "capitals_world = {'Amsterdam', 'London'}\n",
    "\n",
    "# code here:\n",
    "# What is the capital of the Netherlands:\n",
    "print('The capital of the Netherlands is: ', set.intersection(the_netherlands, capitals_world))"
   ]
  },
  {
   "cell_type": "markdown",
   "metadata": {},
   "source": [
    "---"
   ]
  },
  {
   "cell_type": "markdown",
   "metadata": {},
   "source": [
    "## Manipulating data structures"
   ]
  },
  {
   "cell_type": "markdown",
   "metadata": {},
   "source": [
    "<img style=\"float: left;\" src=\"lecture_01_b/Slide11.PNG\" width=\"100%\">"
   ]
  },
  {
   "cell_type": "code",
   "execution_count": null,
   "metadata": {},
   "outputs": [],
   "source": [
    "# Create a 2D array of ones, then replace the inner entries \n",
    "# (not on the boundary) with zeros:\n",
    "import numpy as np\n",
    "x = np.ones((5,5))\n",
    "print(\"Original array:\")\n",
    "print(x)\n",
    "\n",
    "print(\"1 on the border and 0 inside in the array\")\n",
    "x[1:-1,1:-1] = 0\n",
    "print(x)"
   ]
  },
  {
   "cell_type": "markdown",
   "metadata": {},
   "source": [
    "<img style=\"float: left;\" src=\"lecture_01_b/Slide12.PNG\" width=\"100%\">"
   ]
  },
  {
   "cell_type": "code",
   "execution_count": null,
   "metadata": {},
   "outputs": [],
   "source": [
    "# Practice with manipulating lists here:\n",
    "color_list=[\"Red\", \"Blue\", \"Green\", \"Black\"]\n",
    "print(color_list[0])\n",
    "\n",
    "color_list[0]=\"White\" # Change the value of first item \"Red\" to \"White\"\n",
    "print(color_list)\n",
    "\n",
    "print(color_list[0])"
   ]
  },
  {
   "cell_type": "markdown",
   "metadata": {},
   "source": [
    "## How to write a list to a file?"
   ]
  },
  {
   "cell_type": "code",
   "execution_count": null,
   "metadata": {},
   "outputs": [],
   "source": [
    "# Print the following list to a file:\n",
    "color = ['Red', 'Green', 'White', 'Black', 'Pink', 'Yellow']\n",
    "\n",
    "# code here:\n",
    "with open('abc.txt', \"w\") as myfile:\n",
    "    for c in color:\n",
    "        myfile.write(\"%s\\n\" % c)\n",
    "\n",
    "content = open('abc.txt')\n",
    "print(content.read())"
   ]
  },
  {
   "cell_type": "markdown",
   "metadata": {},
   "source": [
    "<img style=\"float: left;\" src=\"lecture_01_b/Slide13.PNG\" width=\"100%\">"
   ]
  },
  {
   "cell_type": "code",
   "execution_count": null,
   "metadata": {},
   "outputs": [],
   "source": [
    "# Find the maximum and minimum value of a Python dictionary:\n",
    "my_dict = {'x':500, 'y':5874, 'z': 560}\n",
    "\n",
    "# code here:\n",
    "key_max = max(my_dict.keys(), key=(lambda k: my_dict[k]))\n",
    "key_min = min(my_dict.keys(), key=(lambda k: my_dict[k]))\n",
    "\n",
    "print('Maximum Value: ',my_dict[key_max])\n",
    "print('Minimum Value: ',my_dict[key_min])"
   ]
  },
  {
   "cell_type": "markdown",
   "metadata": {},
   "source": [
    "---"
   ]
  },
  {
   "cell_type": "markdown",
   "metadata": {},
   "source": [
    "## How about Numpy Arrays? "
   ]
  },
  {
   "cell_type": "code",
   "execution_count": null,
   "metadata": {},
   "outputs": [],
   "source": [
    "# Check if arrays have common entries:\n",
    "import numpy as np\n",
    "array1 = np.array([0, 10, 20, 40, 60])\n",
    "print(\"Array1: \",array1)\n",
    "array2 = [10, 30, 40]\n",
    "print(\"Array2: \",array2)\n",
    "\n",
    "# code here:\n",
    "print(\"Common values between two arrays:\")\n",
    "print(np.intersect1d(array1, array2))\n",
    "print()\n",
    "# ------------------\n",
    "\n",
    "# Check if elements are bigger, equal, smaller:\n",
    "a = np.array([1, 2])\n",
    "b = np.array([4, 5])\n",
    "print(\"Array a: \",a)\n",
    "print(\"Array b: \",b)\n",
    "\n",
    "# code here:\n",
    "print(\"a > b\")\n",
    "print(np.greater(a, b))\n",
    "print(\"a >= b\")\n",
    "print(np.greater_equal(a, b))\n",
    "print(\"a < b\")\n",
    "print(np.less(a, b))\n",
    "print(\"a <= b\")\n",
    "print(np.less_equal(a, b))\n",
    "print()\n",
    "# ------------------\n",
    "\n",
    "# Check if number is in 2D array:\n",
    "x = np.array([[1.12, 2.0, 3.45], [2.33, 5.12, 6.0]], float) \n",
    "print(\"Original array:\")\n",
    "print(x)\n",
    "\n",
    "# code here:\n",
    "print(2 in x)\n",
    "print(0 in x)\n",
    "print(6 in x)\n",
    "print(2.3 in x)\n",
    "print(5.12 in x)\n",
    "# ------------------"
   ]
  },
  {
   "cell_type": "markdown",
   "metadata": {},
   "source": [
    "---"
   ]
  },
  {
   "cell_type": "code",
   "execution_count": null,
   "metadata": {},
   "outputs": [],
   "source": [
    "## Some basic boolean practice"
   ]
  },
  {
   "cell_type": "markdown",
   "metadata": {},
   "source": [
    "Write a Python program which iterates the integers from 1 to 50. For multiples of three print \"Fizz\" instead of the number and for the multiples of five print \"Buzz\". For numbers which are multiples of both three and five print \"FizzBuzz\"."
   ]
  },
  {
   "cell_type": "code",
   "execution_count": null,
   "metadata": {},
   "outputs": [],
   "source": [
    "# code here:\n",
    "for fizzbuzz in range(50):\n",
    "    if fizzbuzz % 3 == 0 and fizzbuzz % 5 == 0:\n",
    "        print(\"fizzbuzz\")\n",
    "        continue\n",
    "    elif fizzbuzz % 3 == 0:\n",
    "        print(\"fizz\")\n",
    "        continue\n",
    "    elif fizzbuzz % 5 == 0:\n",
    "        print(\"buzz\")\n",
    "        continue\n",
    "    print(fizzbuzz)"
   ]
  },
  {
   "cell_type": "markdown",
   "metadata": {},
   "source": [
    "---"
   ]
  },
  {
   "cell_type": "markdown",
   "metadata": {},
   "source": [
    "<img style=\"float: left;\" src=\"lecture_01_a/Slide37.PNG\" width=\"100%\">"
   ]
  },
  {
   "cell_type": "code",
   "execution_count": null,
   "metadata": {},
   "outputs": [],
   "source": [
    "# Make a game: Guess the correct integer!\n",
    "# Task:\n",
    "#   0 Import necessary modules (numpy)\n",
    "#   1 Ask user for difficulty (determines number of guesses allowed) and print amount of guesses\n",
    "#   2 Set maximum number of guesses based on difficulty (easy == 25, normal == 15, and hard == 8)\n",
    "#   3 Generate random integer (first test your code with known number!!!)\n",
    "#   --- start loop ---\n",
    "#   4 Allow user to guess\n",
    "#   5 Check if guess is correct (if correct congratulate user and end loop)\n",
    "#   6 Provide if the integer is higher or lower (go back to 4)\n",
    "#   7 If no guesses left, tell the user that it is game over and provide the correct integer\n",
    "#   --- end loop ---\n",
    "import numpy as np\n",
    "\n",
    "\n",
    "print('Welcome to the game of Guess the Integer!')\n",
    "print('The goal: find the random integer between 1 and 100')\n",
    "difficulty = str(input('What difficulty do you want to play? Type easy, normal, or hard: ')).lower()\n",
    "\n",
    "if difficulty == 'easy':\n",
    "    max_guess = 25\n",
    "\n",
    "elif difficulty == 'normal':\n",
    "    max_guess = 15\n",
    "\n",
    "elif difficulty == 'hard':\n",
    "    max_guess = 8\n",
    "\n",
    "else:\n",
    "    print('Unknown difficulty setting, difficulty set to normal')\n",
    "    max_guess = 25\n",
    "\n",
    "print('Max. number of guesses: %d' % max_guess)\n",
    "\n",
    "# First test your code with a known number!!!\n",
    "number = 51\n",
    "\n",
    "# Then when it works implement random number:\n",
    "# number = np.random.randint(1, 100)\n",
    "\n",
    "found_integer = False\n",
    "use_for_loop = False\n",
    "nr_guess = 1\n",
    "\n",
    "if not use_for_loop:\n",
    "    while (not found_integer) and (nr_guess <= max_guess):\n",
    "        guess = int(input('Enter an integer: '))\n",
    "        nr_guess += 1\n",
    "\n",
    "        if guess == number:\n",
    "            found_integer = True\n",
    "            print('Congratulations, you guessed it.')\n",
    "\n",
    "        elif guess < number:\n",
    "            print('No, it is a little higher than that')\n",
    "\n",
    "        else:\n",
    "            print('No, it is a little lower than that')\n",
    "\n",
    "else:\n",
    "    for nr_guess in range(1, max_guess + 1):\n",
    "        guess = int(input('Enter an integer: '))\n",
    "\n",
    "        if guess == number:\n",
    "            found_integer = True\n",
    "            print('Congratulations, you guessed it.')\n",
    "            break\n",
    "\n",
    "        elif guess < number:\n",
    "            print('No, it is a little higher than that')\n",
    "\n",
    "        else:\n",
    "            print('No, it is a little lower than that')\n",
    "\n",
    "if not found_integer:\n",
    "    print('It seems that you have run out of guesses!')\n",
    "    print('The correct integer was: ', number)\n",
    "    print('Game Over')\n"
   ]
  },
  {
   "cell_type": "markdown",
   "metadata": {},
   "source": [
    "---"
   ]
  },
  {
   "cell_type": "markdown",
   "metadata": {},
   "source": [
    "## <font color='red'>References (most important!)</font>\n",
    "### Python online tutorials and exercises\n",
    "* https://python.swaroopch.com/\n",
    "* https://www.youtube.com/watch?v=sfhhk8m4mcQ&list=PLLAZ4kZ9dFpMMs5lskzBApYXn0bl7emsW \n",
    "* https://www.python-course.eu/python3_course.php \n",
    "* https://www.python-course.eu/numpy.php \n",
    "* http://cs231n.github.io/python-numpy-tutorial/ \n",
    "\n",
    "### Programming for Computations – Python (note: in Python 2!)\n",
    "* https://link.springer.com/content/pdf/10.1007%2F978-3-319-32428-9.pdf\n",
    "\n",
    "### Foundations of Python Programming\n",
    "* https://fopp.umsi.education/runestone/static/fopp/index.html\n",
    "\n"
   ]
  },
  {
   "cell_type": "markdown",
   "metadata": {},
   "source": [
    "---"
   ]
  },
  {
   "cell_type": "markdown",
   "metadata": {},
   "source": [
    "## <font color='green'>References (optional resources)</font>\n",
    "### Python Basics\n",
    "* https://pythonbasics.org/ \n",
    "\n",
    "### Dive Into Python 3 (book by Mark Pilgrim)\n",
    "* http://diveintopython3.problemsolving.io/\n",
    "\n",
    "### A Gentler Introduction to Programming\n",
    "* https://medium.freecodecamp.org/a-gentler-introduction-to-programming-1f57383a1b2c \n",
    "* http://www.greenteapress.com/thinkpython/thinkCSpy/html/chap01.html \n",
    "\n",
    "### Algorithms Basics\n",
    "* https://www.tutorialspoint.com/data_structures_algorithms/algorithms_basics.htm \n",
    "* https://fiftyexamples.readthedocs.io/en/latest/algorithms.html\n",
    "\n",
    "### Cormen et al., 2010: Introduction to Algorithms:\n",
    "* https://mcdtu.files.wordpress.com/2017/03/introduction-to-algorithms-3rd-edition-sep-2010.pdf \n",
    "* https://hplgit.github.io/prog4comp/doc/pub/p4c_Matlab.pdf \n",
    "\n",
    "### 50 Years of Data Science\n",
    "* http://courses.csail.mit.edu/18.337/2015/docs/50YearsDataScience.pdf\n",
    "\n",
    "### Mathematical resources\n",
    "* https://ocw.mit.edu/courses/mathematics/18-06-linear-algebra-spring-2010/video-lectures/\n",
    "* https://ocw.mit.edu/courses/mathematics/18-01-single-variable-calculus-fall-2006/video-lectures/"
   ]
  },
  {
   "cell_type": "markdown",
   "metadata": {},
   "source": [
    "<img style=\"float: left;\" src=\"lecture_01_a/Slide41.PNG\" width=\"100%\">"
   ]
  }
 ],
 "metadata": {
  "kernelspec": {
   "display_name": "Python 3 (ipykernel)",
   "language": "python",
   "name": "python3"
  },
  "language_info": {
   "codemirror_mode": {
    "name": "ipython",
    "version": 3
   },
   "file_extension": ".py",
   "mimetype": "text/x-python",
   "name": "python",
   "nbconvert_exporter": "python",
   "pygments_lexer": "ipython3",
   "version": "3.9.12"
  }
 },
 "nbformat": 4,
 "nbformat_minor": 2
}
