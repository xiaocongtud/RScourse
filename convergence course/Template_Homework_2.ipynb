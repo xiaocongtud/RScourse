{
 "cells": [
  {
   "cell_type": "markdown",
   "metadata": {},
   "source": [
    "# Homework Template Lecture 2\n",
    "\n",
    "## Student Name:\n",
    "## Student Number:"
   ]
  },
  {
   "cell_type": "markdown",
   "metadata": {},
   "source": [
    "## Answer to in-class exercise: Gas diffusion in layered reservoir (part 1)"
   ]
  },
  {
   "cell_type": "markdown",
   "metadata": {},
   "source": [
    "## Answer to in-class exercise: Gas diffusion in layered reservoir (part 2)"
   ]
  },
  {
   "cell_type": "code",
   "execution_count": null,
   "metadata": {},
   "outputs": [],
   "source": [
    "import numpy as np\n",
    "\n",
    "\n",
    "# Create matrix of coefficients:\n",
    "A = np.zeros((3, 3))\n",
    "A[0, :] = [0.8, 0.1, 0.04]\n",
    "A[1, :] = [0.15, 0.7, 0.13]\n",
    "A[2, :] = [0.05, 0.2, 0.83]\n",
    "\n",
    "# Create initial gas distribution:\n",
    "gas_distr = np.array([1, 0, 0])\n",
    "\n",
    "# Time step size:\n",
    "dt = 1  # [years]\n",
    "    \n",
    "# Calculate distribution at several timesteps:\n",
    "time_after_injection = [6, 15, 50]  # [years]\n",
    "nr_time_steps = [int(ii / dt) for ii in time_after_injection]  # matrix powers (and time-steps) need to be integers :)! \n",
    "\n",
    "for n in nr_time_steps:\n",
    "# your code here .....\n",
    "\n",
    "    print('Gas distribution after {:d} years is :\\t'.format(n * dt), new_distr)\n"
   ]
  },
  {
   "cell_type": "code",
   "execution_count": null,
   "metadata": {},
   "outputs": [],
   "source": [
    "# Last example where we know the condition after X years and \n",
    "# can calculate back the concentration (solving the linear system for init_gas_distr)\n",
    "\n",
    "# Create matrix of coefficients:\n",
    "A = np.zeros((3, 3))\n",
    "A[0, :] = [0.8, 0.1, 0.04]\n",
    "A[1, :] = [0.15, 0.7, 0.13]\n",
    "A[2, :] = [0.05, 0.2, 0.83]\n",
    "\n",
    "# Create initial gas distribution\n",
    "gas_distr = np.array([1, 0, 0])\n",
    "\n",
    "# Calculate distribution at new time-step:\n",
    "time_step = 6\n",
    "new_distr = np.dot(np.linalg.???(A, time_step), gas_distr)\n",
    "print('Gas distribution after {:d} years is :\\t'.format(time_step), new_distr)\n",
    "\n",
    "# Use new distribution to calculate back the initial distribution (which method???):\n",
    "init_distr = np.linalg.???(matrix_prod_pow(A, time_step), new_distr)\n",
    "init_distr[init_distr<1e-14] = 0\n",
    "\n",
    "print('Initial gas distribution:\\t\\t', init_distr)"
   ]
  },
  {
   "cell_type": "markdown",
   "metadata": {},
   "source": [
    "## Answer to in-class exercise: Gas diffusion in layered reservoir (part 3)"
   ]
  },
  {
   "cell_type": "code",
   "execution_count": null,
   "metadata": {},
   "outputs": [],
   "source": [
    "import matplotlib.pyplot as plt\n",
    "\n",
    "\n",
    "# Plot gas distribution in each layer over 25 years time-period:\n",
    "num_steps = 25\n",
    "nr_time_steps = np.linspace(1, num_steps, num_steps, dtype=int)\n",
    "num_layers = 3\n",
    "gas_distr_mat = np.zeros((num_steps, num_layers))\n",
    "\n",
    "# your code here .....\n",
    "\n",
    "font = {'family': 'serif',\n",
    "        'color':  'darkred',\n",
    "        'weight': 'normal',\n",
    "        'size': 16,\n",
    "        }\n",
    "\n",
    "# Plot solution:\n",
    "plt.figure(num=None, figsize=(15, 5), dpi=80, facecolor='w', edgecolor='k')\n",
    "\n",
    "plt.plot(nr_time_steps, gas_distr_mat[:, 0], 'r', linewidth=2)\n",
    "plt.plot(nr_time_steps, gas_distr_mat[:, 1], 'blue', linewidth=2)\n",
    "plt.plot(nr_time_steps, gas_distr_mat[:, 2], 'black', linewidth=2)\n",
    "plt.title('Gas distribution over time', fontdict=font)\n",
    "plt.xlabel('time [years]', fontdict=font)\n",
    "plt.ylabel('gas concentration [-]', fontdict=font)\n",
    "plt.gca().legend(('layer 1','layer 2', 'layer 3'))\n",
    "plt.show()"
   ]
  },
  {
   "cell_type": "markdown",
   "metadata": {},
   "source": [
    "## Set of Python exercises:"
   ]
  },
  {
   "cell_type": "markdown",
   "metadata": {},
   "source": [
    "### Question 1: Use a lambda function (use the help('lambda') command if you don't know what a lambda function is) to compute the power of each element in the list of numbers. Note: ** or pow() doesn't take type 'list', how to solve this?"
   ]
  },
  {
   "cell_type": "code",
   "execution_count": null,
   "metadata": {},
   "outputs": [],
   "source": [
    "# Answer here:\n",
    "import numpy as np\n",
    "\n",
    "\n",
    "nums = [1, 2, 3, 4, 5, 6, 7, 8, 9, 10]\n",
    "my_func = ???\n",
    "\n",
    "print(my_func(nums))"
   ]
  },
  {
   "cell_type": "markdown",
   "metadata": {},
   "source": [
    "### Question 2: Create a Python function and use a list comprehension to take the power of each element of the list of numbers."
   ]
  },
  {
   "cell_type": "code",
   "execution_count": null,
   "metadata": {},
   "outputs": [],
   "source": [
    "# Answer here:\n",
    "import numpy as np\n",
    "\n",
    "\n",
    "nums = [1, 2, 3, 4, 5, 6, 7, 8, 9, 10]\n",
    "def my_power(my_list):\n",
    "    # code here\n",
    "    return ???\n",
    "\n",
    "print(my_power(nums))"
   ]
  },
  {
   "cell_type": "markdown",
   "metadata": {},
   "source": [
    "### Question 3.a: Create two numpy arrays with random values. The first array should have size (3, 2) and the second array size (2, 3). Then multiply both arrays, first array_1 $ \\cdot $ array_2, then array_2 $ \\cdot $ array_1 (comment on the difference in the output, why is this?). "
   ]
  },
  {
   "cell_type": "code",
   "execution_count": null,
   "metadata": {},
   "outputs": [],
   "source": [
    "# Answer here:\n",
    "import numpy as np\n",
    "\n",
    "\n",
    "array_1 = ???\n",
    "array_2 = ???\n",
    "\n",
    "# Multiply array (hint: need to use numpy method/function that allows you to multiple arrays and vectors)\n",
    "print('array_1 * array_2 = ', ???)\n",
    "print('array_2 * array_1 = ', ???)\n",
    "\n",
    "# Comment on the differences:\n"
   ]
  },
  {
   "cell_type": "markdown",
   "metadata": {},
   "source": [
    "### Question 3.b: Reshape the array_2 such that it will have size (6, 1) (instead of the previous (2, 3)). Then multiply array_1 with array_2. Why this doesn't work? Now reshape array_1 to have the same size (6, 1). Perform the multiplication again. Why this doesn't work? Now reshape array_1 to have size (1, 6) and perform array_1 $ \\cdot $ array_2 and array_2 $ \\cdot $ array_1. Comment on the result."
   ]
  },
  {
   "cell_type": "code",
   "execution_count": null,
   "metadata": {},
   "outputs": [],
   "source": [
    "# Answer here:\n",
    "# Reshape both array_2 such that the new size is (6, 1):\n",
    "# code here: \n",
    "\n",
    "# Perform same multiplication with new shape (hint: need to use numpy method/function that allows you to multiple arrays and vectors):\n",
    "print('array_1 * array_2 = ', ???)\n",
    "\n",
    "# Why this doesn't work? \n",
    "# Answer: \n",
    "\n",
    "# Now reshape array_1 such that the new size is (6, 1):\n",
    "# code here: \n",
    "\n",
    "# Perform same multiplication with new shape (hint: need to use numpy method/function that allows you to multiple arrays and vectors):\n",
    "print('array_1 * array_2 = ', ???)\n",
    "\n",
    "# Why this doesn't work? \n",
    "# Answer: \n",
    "\n",
    "# Now finally reshape array_1 such that the new size is (1, 6):\n",
    "# code here\n",
    "\n",
    "# Multiply final shapes (hint: need to use numpy method/function that allows you to multiple arrays and vectors):\n",
    "print('array_1 * array_2 = ', ???)\n",
    "print('array_2 * array_1 = ', ???)\n",
    "\n",
    "# Explain the shape of both results:\n",
    "# Answer:"
   ]
  },
  {
   "cell_type": "markdown",
   "metadata": {},
   "source": [
    "### Question 4: Write a Python function with input argument a list and return only the even numbers in the list."
   ]
  },
  {
   "cell_type": "code",
   "execution_count": null,
   "metadata": {},
   "outputs": [],
   "source": [
    "nums = [1, 2, 3, 4, 5, 6, 7, 8, 9, 10]\n",
    "# Answer here:\n",
    "\n",
    "def even_numbers(my_list):\n",
    "    # code here\n",
    "    return ???\n",
    "\n",
    "print(even_numbers(nums))"
   ]
  },
  {
   "cell_type": "markdown",
   "metadata": {},
   "source": [
    "### Question 5: Write a Python function that takes as an input the radius and origin of a circle and a point in 2D and computes if the point is inside or outside the circle. "
   ]
  },
  {
   "cell_type": "code",
   "execution_count": null,
   "metadata": {},
   "outputs": [],
   "source": [
    "origin_circle = np.array([0.5, 0.25])\n",
    "radius = 2.5\n",
    "point_2D = np.array([0.75, 1])\n",
    "\n",
    "# Answer here:\n",
    "\n",
    "def point_in_circle(r, origin, point):\n",
    "    # code here\n",
    "    return ???\n",
    "\n",
    "if point_in_circle:\n",
    "    print('The point ', point_2D, ' is inside the circle')\n",
    "else:\n",
    "    print('The point ', point_2D, ' is outside the circle')"
   ]
  },
  {
   "cell_type": "markdown",
   "metadata": {},
   "source": [
    "### Question 6: Visualize the circle and the point using the matplotlib module (or any other plotting module you prefer). Make sure the title of the plot is changing based on if the point is in or outside of the circle (dynamically)."
   ]
  },
  {
   "cell_type": "code",
   "execution_count": null,
   "metadata": {},
   "outputs": [],
   "source": [
    "# Answer here:"
   ]
  }
 ],
 "metadata": {
  "kernelspec": {
   "display_name": "Python 3",
   "language": "python",
   "name": "python3"
  },
  "language_info": {
   "codemirror_mode": {
    "name": "ipython",
    "version": 3
   },
   "file_extension": ".py",
   "mimetype": "text/x-python",
   "name": "python",
   "nbconvert_exporter": "python",
   "pygments_lexer": "ipython3",
   "version": "3.7.6"
  }
 },
 "nbformat": 4,
 "nbformat_minor": 4
}
