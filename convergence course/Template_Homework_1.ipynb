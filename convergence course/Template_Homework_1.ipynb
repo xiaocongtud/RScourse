{
 "cells": [
  {
   "cell_type": "markdown",
   "metadata": {},
   "source": [
    "# Homework Template Lecture 1\n",
    "\n",
    "## Student Name:\n",
    "## Student Number:"
   ]
  },
  {
   "cell_type": "markdown",
   "metadata": {},
   "source": [
    "## Answer to in-class exercise: Find largest number in list"
   ]
  },
  {
   "cell_type": "code",
   "execution_count": null,
   "metadata": {},
   "outputs": [],
   "source": [
    "# We are going to implement here the algorithm outlined above using the flowchart as our guide! \n",
    "\n",
    "list_of_numbers = [10, 20, 30, 50, 1, 2, 99, 102, 4, 5, 105, 120, 5, 3, 1, 1, 10]\n",
    "\n",
    "max_L = 0\n",
    "count = 0\n",
    "\n",
    "# write your code here .....\n",
    "\n",
    "print(\"The largest number in the list is: \", max_L)"
   ]
  },
  {
   "cell_type": "code",
   "execution_count": null,
   "metadata": {},
   "outputs": [],
   "source": [
    "# Check which list contains the largest number:\n",
    "list_A = [10, 20, 30, 50, 1, 2, 99, 102, 4, 5, 105, 120, 5, 3, 1, 1, 10]\n",
    "list_B = [10, 20, 30, 50, 1, 2, 99, 102, 4, 5, 105, 119, 5, 3, 1, 1, 10]\n",
    "list_C = [10, 20, 30, 50, 1, 2, 99, 102, 4, 5, 105, 121, 5, 3, 1, 1, 10]\n",
    "list_name = ['A', 'B', 'C']\n",
    "\n",
    "# write your code here .....\n",
    "\n",
    "print(\"List :\", list_name[pos], \" has the biggest number: \", max_L)"
   ]
  },
  {
   "cell_type": "markdown",
   "metadata": {},
   "source": [
    "## Answer to in-class exercise: Guess the Integer"
   ]
  },
  {
   "cell_type": "code",
   "execution_count": null,
   "metadata": {},
   "outputs": [],
   "source": [
    "# Make a game: Guess the correct integer!\n",
    "# Task:\n",
    "#   0 Import necessary modules (numpy)\n",
    "#   1 Ask user for difficulty (determines number of guesses allowed) and print amount of guesses\n",
    "#   2 Set maximum number of guesses based on difficulty (easy == 25, normal == 15, and hard == 8)\n",
    "#   3 Generate random integer (first test your code with known number!!!)\n",
    "#   --- start loop ---\n",
    "#   4 Allow user to guess\n",
    "#   5 Check if guess is correct (if correct congratulate user and end loop)\n",
    "#   6 Provide if the integer is higher or lower (go back to 4)\n",
    "#   7 If no guesses left, tell the user that it is game over and provide the correct integer\n",
    "#   --- end loop ---\n",
    "\n",
    "### Step 0: code for importing module here (module that allows for generating a random number) ###\n",
    "\n",
    "\n",
    "print('Welcome to the game of Guess the Integer!')\n",
    "print('The goal: find the random integer between 1 and 100')\n",
    "### Step 1: code for user input (difficulty level) here (what type of variable do we except?) ###\n",
    "\n",
    "### Step 2: code for user setting max_guess (based on difficulty level) here ###\n",
    "print('Max. number of guesses: %d' % max_guess)\n",
    "\n",
    "### Step 3: code for random integer here (this is the integer that the user has to guess) ###\n",
    "number = ???\n",
    "\n",
    "found_integer = False\n",
    "use_for_loop = False\n",
    "nr_guess = 1\n",
    "\n",
    "#   --- start loop ---\n",
    "if not use_for_loop:\n",
    "    ### WHILE LOOP IMPLEMENTATION ###\n",
    "    \n",
    "    ### Step 4: code for user user guess input (what type of variable do we except?) ###\n",
    "    \n",
    "    ### Step 5: code for check if guess is correct (if so, how do we exit the loop?) ###\n",
    "    \n",
    "    ### Step 6: code for providing if integer is higher or lower (if guess is wrong) ###\n",
    "\n",
    "else:\n",
    "    ### FOR LOOP IMPLEMENTATION ###\n",
    "    \n",
    "    ### Step 4: code for user user guess input (what type of variable do we except?) ###\n",
    "    \n",
    "    ### Step 5: code for check if guess is correct (if so, how do we exit the loop?) ###\n",
    "    \n",
    "    ### Step 6: code for providing if integer is higher or lower (if guess is wrong) ###\n",
    "            \n",
    "#   --- end loop ---\n",
    "\n",
    "### Step 7: code here if nr_guess > max_guess and tell the user that it is game over and provide the correct integer ###\n"
   ]
  },
  {
   "cell_type": "markdown",
   "metadata": {},
   "source": [
    "## Set of Python exercises:"
   ]
  },
  {
   "cell_type": "markdown",
   "metadata": {},
   "source": [
    "### Question 1: Write a Python function with input argument the radius of a circle and returns the area."
   ]
  },
  {
   "cell_type": "code",
   "execution_count": 3,
   "metadata": {},
   "outputs": [],
   "source": [
    "# Answer here:"
   ]
  },
  {
   "cell_type": "markdown",
   "metadata": {},
   "source": [
    "### Question 2: Write a Python function with input argument the  radius of a sphere and return as an output the volume and surface area of the sphere."
   ]
  },
  {
   "cell_type": "code",
   "execution_count": 4,
   "metadata": {},
   "outputs": [],
   "source": [
    "# Answer here:"
   ]
  },
  {
   "cell_type": "markdown",
   "metadata": {},
   "source": [
    "### Question 3: Write a Python function with input argument a string and as an output return the frequency of each of the characters in the string."
   ]
  },
  {
   "cell_type": "code",
   "execution_count": 5,
   "metadata": {},
   "outputs": [],
   "source": [
    "example_string = 'jghdiekofkkfjduehakcdhfkgh'\n",
    "# Answer here:"
   ]
  },
  {
   "cell_type": "markdown",
   "metadata": {},
   "source": [
    "### Question 4: Write a Python function that removes the i-th element from a given list and then print the new list."
   ]
  },
  {
   "cell_type": "code",
   "execution_count": 6,
   "metadata": {},
   "outputs": [],
   "source": [
    "example_list = [1, 2, 3, 4, 5, 6, 7, 8, 9, 10]\n",
    "ith_element = 5\n",
    "# Answer here:"
   ]
  },
  {
   "cell_type": "markdown",
   "metadata": {},
   "source": [
    "### Question 5: Write a Python function that prints the key and the value in a dictionary in table form."
   ]
  },
  {
   "cell_type": "code",
   "execution_count": 7,
   "metadata": {},
   "outputs": [],
   "source": [
    "example_dict = {1: 10, 2: 20, 3: 30, 4: 40, 5: 50, 6: 60}\n",
    "# Answer here:"
   ]
  },
  {
   "cell_type": "markdown",
   "metadata": {},
   "source": [
    "### Question 6: Write a Python function that takes two sets as an input and returns the union and intersection of those two sets."
   ]
  },
  {
   "cell_type": "code",
   "execution_count": 8,
   "metadata": {},
   "outputs": [],
   "source": [
    "example_set1 = set([0, 1, 2, 3, 4, 5, 6, 7])\n",
    "example_set2 = set([5, 6, 7, 8, 9, 10])\n",
    "# Answer here:"
   ]
  },
  {
   "cell_type": "markdown",
   "metadata": {},
   "source": [
    "### Question 7: Write a Python function that takes an input a number and a numpy array and return if this number is an element of the array."
   ]
  },
  {
   "cell_type": "code",
   "execution_count": 9,
   "metadata": {},
   "outputs": [],
   "source": [
    "import numpy as np\n",
    "example_number = 10\n",
    "example_array = np.array([0, 1, 4, 5, -10 ,6, 11])\n",
    "# Answer here:"
   ]
  },
  {
   "cell_type": "markdown",
   "metadata": {},
   "source": [
    "### Question 8: Write a Python function that takes as an input a numpy array and return all the non-zero entries of the array, both the index/position and the value of the entries."
   ]
  },
  {
   "cell_type": "code",
   "execution_count": 10,
   "metadata": {},
   "outputs": [],
   "source": [
    "import numpy as np\n",
    "example_array = np.array([0, 0, 1, 2, 0, -1, 0, 10, 11, 0, 0, 0, 10, -10, -12, 0])\n",
    "# Answer here:"
   ]
  }
 ],
 "metadata": {
  "kernelspec": {
   "display_name": "Python 3",
   "language": "python",
   "name": "python3"
  },
  "language_info": {
   "codemirror_mode": {
    "name": "ipython",
    "version": 3
   },
   "file_extension": ".py",
   "mimetype": "text/x-python",
   "name": "python",
   "nbconvert_exporter": "python",
   "pygments_lexer": "ipython3",
   "version": "3.7.6"
  }
 },
 "nbformat": 4,
 "nbformat_minor": 4
}
